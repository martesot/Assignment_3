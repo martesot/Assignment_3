{
 "cells": [
  {
   "cell_type": "code",
   "execution_count": 1,
   "id": "4b408010",
   "metadata": {},
   "outputs": [],
   "source": [
    "import numpy as np                  # Numpy is used for all kinds of mathematical stuff, especially related to matrices\n",
    "import scipy.stats as sts           # SciPy is built specifically for statistical computing\n",
    "import pandas as pd                 # Pandas is for reading in files and using dataframes\n",
    "import matplotlib.pyplot as plt     # This package is used for the plotting framework, and can be used standalone\n",
    "import seaborn as sns  # I use this package for nicer plots than the standard matplotlib plots\n",
    "import math \n",
    "import scipy"
   ]
  },
  {
   "cell_type": "code",
   "execution_count": 2,
   "id": "8cd9a8d8",
   "metadata": {},
   "outputs": [],
   "source": [
    "#Import the data\n",
    "raw_data = pd.read_csv(\"Assignment3_dataset.csv\")"
   ]
  },
  {
   "cell_type": "markdown",
   "id": "58822753",
   "metadata": {},
   "source": [
    "#### Transformation of data"
   ]
  },
  {
   "cell_type": "code",
   "execution_count": 3,
   "id": "524cc558",
   "metadata": {},
   "outputs": [],
   "source": [
    "#Transform the returns by subtracting sample mean and then multipying by 100.\n",
    "for stock_name in raw_data.TICKER.unique():\n",
    "    raw_data.loc[raw_data.TICKER == stock_name,'RET'] = (raw_data.RET - np.mean(raw_data.RET[raw_data.TICKER == stock_name]))*100\n",
    "#checked whether transformation was done correctly by doing the calculation by hand for first obs. of every stock.\n",
    "\n"
   ]
  },
  {
   "cell_type": "markdown",
   "id": "e4a9fe8f",
   "metadata": {},
   "source": [
    "## Question 3"
   ]
  },
  {
   "cell_type": "markdown",
   "id": "68d84723",
   "metadata": {},
   "source": [
    "### Likelihood functions for both no leverage and leverage models"
   ]
  },
  {
   "cell_type": "code",
   "execution_count": 4,
   "id": "e82c5c1f",
   "metadata": {},
   "outputs": [],
   "source": [
    "#llik function no leverage \n",
    "def llik_fun_GARCH_no_lev(theta, stock_name, T=2500):\n",
    "    x = stock_name.RET.iloc[0:T]\n",
    "    omega, alpha, beta, lambda1= theta\n",
    "    c = 0.0001\n",
    "\n",
    "    # Filter Volatility\n",
    "    sigma2 = np.zeros(T)\n",
    "    sigma2[0] = np.var(stock_name.RET.iloc[0:50]) #initialize volatility\n",
    "\n",
    "    for t in range(0,T-1):\n",
    "        sigma2[t+1] = omega + (alpha*(x[t]**2))/(1+((x[t]**2)/(lambda1*sigma2[t]))) + beta*sigma2[t]\n",
    " \n",
    "    if np.any(sigma2 < 0) or lambda1 < c:\n",
    "        llik = -100*T - 10000*T*(((lambda1 - c)**2) * ((lambda1 < c)*1) + np.sum((sigma2**2)*((sigma2 < 0)*1)))\n",
    "    else:\n",
    "        llik = math.lgamma((lambda1 + 1)/2) - math.lgamma(lambda1/2) - 1/2*np.log(lambda1) - 1/2*np.log(np.pi) - (lambda1 + 1)/2 * np.log(1+(((x/(sigma2**0.5))**2)/lambda1)) -1/2*np.log(sigma2)\n",
    "\n",
    "    return -np.mean(llik)"
   ]
  },
  {
   "cell_type": "code",
   "execution_count": 5,
   "id": "717ad422",
   "metadata": {},
   "outputs": [],
   "source": [
    "#llik function with leverage \n",
    "def llik_fun_GARCH_w_lev(theta, stock_name, T=2500):\n",
    "    x = stock_name.RET.iloc[0:T]\n",
    "    omega, alpha, beta, delta, lambda1 = theta\n",
    "    c = 0.0001\n",
    "\n",
    "    # Filter Volatility\n",
    "    sigma2 = np.zeros(T)\n",
    "    sigma2[0] = np.var(stock_name.RET.iloc[0:50]) #initialize volatility\n",
    "\n",
    "    for t in range(0,T-1):\n",
    "        if x[t] < 0:\n",
    "            sigma2[t+1] = omega + ((alpha*(x[t]**2))+(delta*(x[t]**2)))/(1+((x[t]**2)/(lambda1*sigma2[t]))) + beta*sigma2[t]\n",
    "        else:\n",
    "            sigma2[t+1] = omega + (alpha*(x[t]**2))/(1+((x[t]**2)/(lambda1*sigma2[t]))) + beta*sigma2[t]\n",
    "    \n",
    "    if np.any(sigma2 < 0) or lambda1 < c:\n",
    "        llik = -100*T - 10000*T*(((lambda1 - c)**2) * ((lambda1 < c)*1) + np.sum((sigma2**2)*((sigma2 < 0)*1)))\n",
    "    else:\n",
    "        llik = math.lgamma((lambda1 + 1)/2) - math.lgamma(lambda1/2) - 1/2*np.log(lambda1) - 1/2*np.log(np.pi) - (lambda1 + 1)/2 * np.log(1+(((x/(sigma2**0.5))**2)/lambda1)) -1/2*np.log(sigma2)\n",
    "\n",
    "    return -np.mean(llik)"
   ]
  },
  {
   "cell_type": "code",
   "execution_count": 6,
   "id": "c8747901",
   "metadata": {},
   "outputs": [
    {
     "data": {
      "text/plain": [
       "-3774.145968842645"
      ]
     },
     "execution_count": 6,
     "metadata": {},
     "output_type": "execute_result"
    }
   ],
   "source": [
    "#TEST LLIK FUNCTION NO LEVERAGE TO COMPARE WITH KO RESULTS IN PDF.\n",
    "KO = raw_data.RET[raw_data.TICKER == 'KO'].reset_index()\n",
    "KO = KO.drop(columns='index')\n",
    "\n",
    "#par values (copied from PDF)\n",
    "omega_TEST1   = 0.005665683\n",
    "alpha_TEST1   = 0.09922153 \n",
    "beta_TEST1    = 0.91055318 \n",
    "lambda1_TEST1 = 5.5415955   \n",
    "theta_TEST1 = np.array([omega_TEST1,\n",
    "                       alpha_TEST1,\n",
    "                       beta_TEST1,\n",
    "                       lambda1_TEST1])\n",
    "\n",
    "#apply function given the values and KO\n",
    "llik_fun_GARCH_no_lev(theta_TEST1,KO)*-2500 #because -np.mean(LLIK) is returned\n",
    "#check, value corresponds to PDF file so LLIK function is correct."
   ]
  },
  {
   "cell_type": "code",
   "execution_count": 7,
   "id": "9ae070ac",
   "metadata": {},
   "outputs": [
    {
     "data": {
      "text/plain": [
       "-3758.5960592298843"
      ]
     },
     "execution_count": 7,
     "metadata": {},
     "output_type": "execute_result"
    }
   ],
   "source": [
    "#TEST LLIK FUNCTION WITH LEVERAGE TO COMPARE WITH KO RESULTS IN PDF.\n",
    "KO = raw_data.RET[raw_data.TICKER == 'KO'].reset_index()\n",
    "KO = KO.drop(columns='index')\n",
    "\n",
    "#par values (copied from PDF)\n",
    "omega_TEST2   = 0.007442577\n",
    "alpha_TEST2   = 0.02670845\n",
    "beta_TEST2    = 0.9217446\n",
    "delta_TEST2   = 0.11266453\n",
    "lambda1_TEST2 = 6.056328\n",
    "theta_TEST2 = np.array([omega_TEST2,\n",
    "                       alpha_TEST2,\n",
    "                       beta_TEST2,\n",
    "                       delta_TEST2,\n",
    "                       lambda1_TEST2])\n",
    "\n",
    "#apply function given the values and KO\n",
    "llik_fun_GARCH_w_lev(theta_TEST2,KO)*-2500 #because -np.mean(LLIK) is returned\n",
    "#check, value corresponds to PDF file so LLIK function is correct."
   ]
  },
  {
   "cell_type": "markdown",
   "id": "5eb3bc1e",
   "metadata": {},
   "source": [
    "### Maximizing functions"
   ]
  },
  {
   "cell_type": "code",
   "execution_count": 8,
   "id": "7cbe9517",
   "metadata": {},
   "outputs": [],
   "source": [
    "#First, create data frames to store the results of optimization\n",
    "parameters_no_lev = pd.DataFrame(columns=['KO', 'PFE', 'JNJ', 'MRK'])\n",
    "parameters_w_lev  = pd.DataFrame(columns=['KO', 'PFE', 'JNJ', 'MRK'])"
   ]
  },
  {
   "cell_type": "code",
   "execution_count": 9,
   "id": "34d18e9d",
   "metadata": {},
   "outputs": [
    {
     "name": "stdout",
     "output_type": "stream",
     "text": [
      "Results for KO:\n",
      "\n",
      "parameter estimates KO:\n",
      "omega  : 0.005648449476727727\n",
      "alpha  : 0.09934140110318318\n",
      "beta   : 0.9104795626331312\n",
      "lambda : 5.542242793010083\n",
      "\n",
      "standard errors KO:\n",
      "[0.00245683 0.01582838 0.01365645 0.51139613]\n",
      "\n",
      "log likelihood value KO:\n",
      "-3774.1458804732065\n",
      "AIC:\n",
      "7556.291760946413\n",
      "BIC:\n",
      "7579.587944989838\n",
      "exit flag:\n",
      "True\n",
      "message:\n",
      "Optimization terminated successfully.\n",
      "\n",
      "\n",
      "\n",
      "Results for PFE:\n",
      "\n",
      "parameter estimates PFE:\n",
      "omega  : 0.02897602884271317\n",
      "alpha  : 0.11873368644665817\n",
      "beta   : 0.8817480536374301\n",
      "lambda : 6.1747272473202175\n",
      "\n",
      "standard errors PFE:\n",
      "[0.01061453 0.02114093 0.02140571 0.65763795]\n",
      "\n",
      "log likelihood value PFE:\n",
      "-4542.309156863639\n",
      "AIC:\n",
      "9092.618313727278\n",
      "BIC:\n",
      "9115.914497770704\n",
      "exit flag:\n",
      "True\n",
      "message:\n",
      "Optimization terminated successfully.\n",
      "\n",
      "\n",
      "\n",
      "Results for JNJ:\n",
      "\n",
      "parameter estimates JNJ:\n",
      "omega  : 0.013498808341724159\n",
      "alpha  : 0.15553128089079382\n",
      "beta   : 0.8526296373568155\n",
      "lambda : 5.954081921571418\n",
      "\n",
      "standard errors JNJ:\n",
      "[0.00366196 0.02064958 0.01780961 0.48146871]\n",
      "\n",
      "log likelihood value JNJ:\n",
      "-3567.3593468761233\n",
      "AIC:\n",
      "7142.7186937522465\n",
      "BIC:\n",
      "7166.014877795672\n",
      "exit flag:\n",
      "True\n",
      "message:\n",
      "Optimization terminated successfully.\n",
      "\n",
      "\n",
      "\n",
      "Results for MRK:\n",
      "\n",
      "parameter estimates MRK:\n",
      "omega  : 0.04942514798207988\n",
      "alpha  : 0.16251207393771008\n",
      "beta   : 0.8394772931557852\n",
      "lambda : 4.382547149443503\n",
      "\n",
      "standard errors MRK:\n",
      "[0.01641413 0.02941578 0.02974878 0.33349244]\n",
      "\n",
      "log likelihood value MRK:\n",
      "-4685.030216841097\n",
      "AIC:\n",
      "9378.060433682194\n",
      "BIC:\n",
      "9401.35661772562\n",
      "exit flag:\n",
      "True\n",
      "message:\n",
      "Optimization terminated successfully.\n",
      "\n",
      "\n",
      "\n"
     ]
    }
   ],
   "source": [
    "#For model without leverage:\n",
    "for stock_name in raw_data.TICKER.unique():\n",
    "    dataframe_stock_name = pd.DataFrame(raw_data.RET[raw_data.TICKER == stock_name].reset_index())\n",
    "    \n",
    "    \n",
    "    #list initial parameter values for the optimization and store them in vector\n",
    "    omega_ini1   = np.var(dataframe_stock_name.RET.iloc[0:2500])/50\n",
    "    alpha_ini1   = 0.02 \n",
    "    beta_ini1    = 0.96 \n",
    "    lambda1_ini1 = 5    \n",
    "    theta_ini1 = np.array([omega_ini1,\n",
    "                       alpha_ini1,\n",
    "                       beta_ini1,\n",
    "                       lambda1_ini1])\n",
    "    \n",
    "    #now, optimize llik function. \n",
    "    results1 = scipy.optimize.minimize(llik_fun_GARCH_no_lev, theta_ini1, args=(dataframe_stock_name), options={'maxiter': 5000}, method='BFGS')\n",
    "  \n",
    "    print(f'Results for {stock_name}:')\n",
    "    print(f'')\n",
    "    print(f'parameter estimates {stock_name}:')\n",
    "    print(f\"omega  : {results1.x[0]}\")\n",
    "    print(f\"alpha  : {results1.x[1]}\")\n",
    "    print(f\"beta   : {results1.x[2]}\")\n",
    "    print(f\"lambda : {results1.x[3]}\")\n",
    "    \n",
    "    print(f'')\n",
    "    \n",
    "    print(f'standard errors {stock_name}:')\n",
    "    print(np.sqrt(np.diag(results1.hess_inv)/2500))\n",
    "    \n",
    "    print(f'')\n",
    "    \n",
    "    print(f'log likelihood value {stock_name}:')\n",
    "    print(results1.fun*-2500)\n",
    "    \n",
    "    print('AIC:') \n",
    "    print(-2*(results1.fun*-2500) + 2*len(theta_ini1))\n",
    "    print('BIC:')\n",
    "    print(-2*(results1.fun*-2500) + len(theta_ini1)*np.log(2500))\n",
    "    print('exit flag:')\n",
    "    print(results1.success)\n",
    "    print('message:')\n",
    "    print(results1.message)\n",
    "   \n",
    "    print(f'')\n",
    "    print(f'')\n",
    "    print(f'')\n",
    "    \n",
    "    #store parameter values in just created dataframe\n",
    "    parameters_no_lev[stock_name] = results1.x"
   ]
  },
  {
   "cell_type": "code",
   "execution_count": 10,
   "id": "072da0fe",
   "metadata": {
    "scrolled": true
   },
   "outputs": [
    {
     "name": "stdout",
     "output_type": "stream",
     "text": [
      "Results for KO:\n",
      "\n",
      "parameter estimates KO:\n",
      "omega  : 0.007415443085629548\n",
      "alpha  : 0.027067679474506882\n",
      "beta   : 0.9215588973453706\n",
      "delta  : 0.11256417580910531\n",
      "lambda  : 6.018467096988826\n",
      "\n",
      "standard errors KO:\n",
      "[0.00209528 0.0133266  0.01210155 0.02102979 0.65931756]\n",
      "\n",
      "log likelihood value KO:\n",
      "-3758.5942662293755\n",
      "AIC:\n",
      "7527.188532458751\n",
      "BIC:\n",
      "7556.308762513033\n",
      "exit flag:\n",
      "True\n",
      "\n",
      "Optimization terminated successfully.\n",
      "\n",
      "\n",
      "\n",
      "Results for PFE:\n",
      "\n",
      "parameter estimates PFE:\n",
      "omega  : 0.013831406326853798\n",
      "alpha  : 0.02818669868871606\n",
      "beta   : 0.9197365933743872\n",
      "delta  : 0.11151109755572407\n",
      "lambda  : 6.002453576449582\n",
      "\n",
      "standard errors PFE:\n",
      "[0.00657816 0.01578452 0.0146262  0.02049282 0.48900382]\n",
      "\n",
      "log likelihood value PFE:\n",
      "-4531.754560270359\n",
      "AIC:\n",
      "9073.509120540719\n",
      "BIC:\n",
      "9102.629350595\n",
      "exit flag:\n",
      "True\n",
      "\n",
      "Optimization terminated successfully.\n",
      "\n",
      "\n",
      "\n",
      "Results for JNJ:\n",
      "\n",
      "parameter estimates JNJ:\n",
      "omega  : 0.013212760213682779\n",
      "alpha  : 0.0414427353107953\n",
      "beta   : 0.8774466697023093\n",
      "delta  : 0.16729299554352411\n",
      "lambda  : 6.383476693512685\n",
      "\n",
      "standard errors JNJ:\n",
      "[0.00351515 0.01813849 0.0167113  0.02622709 0.73153196]\n",
      "\n",
      "log likelihood value JNJ:\n",
      "-3549.1409120002186\n",
      "AIC:\n",
      "7108.281824000437\n",
      "BIC:\n",
      "7137.402054054719\n",
      "exit flag:\n",
      "True\n",
      "\n",
      "Optimization terminated successfully.\n",
      "\n",
      "\n",
      "\n",
      "Results for MRK:\n",
      "\n",
      "parameter estimates MRK:\n",
      "omega  : 0.035222838147569165\n",
      "alpha  : 0.04217890112994779\n",
      "beta   : 0.8830782636025659\n",
      "delta  : 0.15444152709174488\n",
      "lambda  : 4.383526874412798\n",
      "\n",
      "standard errors MRK:\n",
      "[0.01320404 0.02484823 0.02622986 0.02373698 0.32090745]\n",
      "\n",
      "log likelihood value MRK:\n",
      "-4670.947106156956\n",
      "AIC:\n",
      "9351.894212313911\n",
      "BIC:\n",
      "9381.014442368192\n",
      "exit flag:\n",
      "True\n",
      "\n",
      "Optimization terminated successfully.\n",
      "\n",
      "\n",
      "\n"
     ]
    }
   ],
   "source": [
    "#For model with leverage:\n",
    "for stock_name in raw_data.TICKER.unique():\n",
    "    dataframe_stock_name = pd.DataFrame(raw_data.RET[raw_data.TICKER == stock_name].reset_index())\n",
    "    \n",
    "    #initial parameter values for models with leverage \n",
    "    omega_ini2   = np.var(dataframe_stock_name.RET.iloc[0:2500])/50 \n",
    "    alpha_ini2   = 0.02 \n",
    "    beta_ini2    = 0.96 \n",
    "    delta_ini2   = 0\n",
    "    lambda1_ini2 = 5    \n",
    "    theta_ini2 = np.array([omega_ini2,\n",
    "                       alpha_ini2,\n",
    "                       beta_ini2,\n",
    "                       delta_ini2,\n",
    "                       lambda1_ini2])\n",
    "    \n",
    "    #now, optimize llik function. \n",
    "    results2 = scipy.optimize.minimize(llik_fun_GARCH_w_lev, theta_ini2, args=(dataframe_stock_name), options={'maxiter': 5000}, method='BFGS')\n",
    "  \n",
    "    print(f'Results for {stock_name}:')\n",
    "    print(f'')\n",
    "    print(f'parameter estimates {stock_name}:')\n",
    "    print(f\"omega  : {results2.x[0]}\")\n",
    "    print(f\"alpha  : {results2.x[1]}\")\n",
    "    print(f\"beta   : {results2.x[2]}\")\n",
    "    print(f\"delta  : {results2.x[3]}\")\n",
    "    print(f\"lambda  : {results2.x[4]}\")\n",
    "    \n",
    "    print(f'')\n",
    "   \n",
    "    print(f'standard errors {stock_name}:')\n",
    "    print(np.sqrt(np.diag(results2.hess_inv)/2500))\n",
    "    \n",
    "    print(f'')\n",
    "    \n",
    "    print(f'log likelihood value {stock_name}:')\n",
    "    print(results2.fun*-2500)\n",
    "    \n",
    "    print('AIC:')\n",
    "    print(-2*(results2.fun*-2500) + 2*len(theta_ini2))\n",
    "    print('BIC:')\n",
    "    print(-2*(results2.fun*-2500) + len(theta_ini2)*np.log(2500))\n",
    "    print('exit flag:')\n",
    "    print(results2.success)\n",
    "    print(f'')\n",
    "    print(results2.message)\n",
    "    print(f'')\n",
    "    print(f'')\n",
    "    print(f'')\n",
    "    \n",
    "    #store parameter values in just created dataframe\n",
    "    parameters_w_lev[stock_name] = results2.x"
   ]
  },
  {
   "cell_type": "code",
   "execution_count": 11,
   "id": "476c05c9",
   "metadata": {},
   "outputs": [
    {
     "data": {
      "text/html": [
       "<div>\n",
       "<style scoped>\n",
       "    .dataframe tbody tr th:only-of-type {\n",
       "        vertical-align: middle;\n",
       "    }\n",
       "\n",
       "    .dataframe tbody tr th {\n",
       "        vertical-align: top;\n",
       "    }\n",
       "\n",
       "    .dataframe thead th {\n",
       "        text-align: right;\n",
       "    }\n",
       "</style>\n",
       "<table border=\"1\" class=\"dataframe\">\n",
       "  <thead>\n",
       "    <tr style=\"text-align: right;\">\n",
       "      <th></th>\n",
       "      <th>KO</th>\n",
       "      <th>PFE</th>\n",
       "      <th>JNJ</th>\n",
       "      <th>MRK</th>\n",
       "    </tr>\n",
       "  </thead>\n",
       "  <tbody>\n",
       "    <tr>\n",
       "      <th>0</th>\n",
       "      <td>0.005648</td>\n",
       "      <td>0.028976</td>\n",
       "      <td>0.013499</td>\n",
       "      <td>0.049425</td>\n",
       "    </tr>\n",
       "    <tr>\n",
       "      <th>1</th>\n",
       "      <td>0.099341</td>\n",
       "      <td>0.118734</td>\n",
       "      <td>0.155531</td>\n",
       "      <td>0.162512</td>\n",
       "    </tr>\n",
       "    <tr>\n",
       "      <th>2</th>\n",
       "      <td>0.910480</td>\n",
       "      <td>0.881748</td>\n",
       "      <td>0.852630</td>\n",
       "      <td>0.839477</td>\n",
       "    </tr>\n",
       "    <tr>\n",
       "      <th>3</th>\n",
       "      <td>5.542243</td>\n",
       "      <td>6.174727</td>\n",
       "      <td>5.954082</td>\n",
       "      <td>4.382547</td>\n",
       "    </tr>\n",
       "  </tbody>\n",
       "</table>\n",
       "</div>"
      ],
      "text/plain": [
       "         KO       PFE       JNJ       MRK\n",
       "0  0.005648  0.028976  0.013499  0.049425\n",
       "1  0.099341  0.118734  0.155531  0.162512\n",
       "2  0.910480  0.881748  0.852630  0.839477\n",
       "3  5.542243  6.174727  5.954082  4.382547"
      ]
     },
     "execution_count": 11,
     "metadata": {},
     "output_type": "execute_result"
    }
   ],
   "source": [
    "parameters_no_lev"
   ]
  },
  {
   "cell_type": "code",
   "execution_count": 12,
   "id": "66743f8a",
   "metadata": {},
   "outputs": [
    {
     "data": {
      "text/html": [
       "<div>\n",
       "<style scoped>\n",
       "    .dataframe tbody tr th:only-of-type {\n",
       "        vertical-align: middle;\n",
       "    }\n",
       "\n",
       "    .dataframe tbody tr th {\n",
       "        vertical-align: top;\n",
       "    }\n",
       "\n",
       "    .dataframe thead th {\n",
       "        text-align: right;\n",
       "    }\n",
       "</style>\n",
       "<table border=\"1\" class=\"dataframe\">\n",
       "  <thead>\n",
       "    <tr style=\"text-align: right;\">\n",
       "      <th></th>\n",
       "      <th>KO</th>\n",
       "      <th>PFE</th>\n",
       "      <th>JNJ</th>\n",
       "      <th>MRK</th>\n",
       "    </tr>\n",
       "  </thead>\n",
       "  <tbody>\n",
       "    <tr>\n",
       "      <th>0</th>\n",
       "      <td>0.007415</td>\n",
       "      <td>0.013831</td>\n",
       "      <td>0.013213</td>\n",
       "      <td>0.035223</td>\n",
       "    </tr>\n",
       "    <tr>\n",
       "      <th>1</th>\n",
       "      <td>0.027068</td>\n",
       "      <td>0.028187</td>\n",
       "      <td>0.041443</td>\n",
       "      <td>0.042179</td>\n",
       "    </tr>\n",
       "    <tr>\n",
       "      <th>2</th>\n",
       "      <td>0.921559</td>\n",
       "      <td>0.919737</td>\n",
       "      <td>0.877447</td>\n",
       "      <td>0.883078</td>\n",
       "    </tr>\n",
       "    <tr>\n",
       "      <th>3</th>\n",
       "      <td>0.112564</td>\n",
       "      <td>0.111511</td>\n",
       "      <td>0.167293</td>\n",
       "      <td>0.154442</td>\n",
       "    </tr>\n",
       "    <tr>\n",
       "      <th>4</th>\n",
       "      <td>6.018467</td>\n",
       "      <td>6.002454</td>\n",
       "      <td>6.383477</td>\n",
       "      <td>4.383527</td>\n",
       "    </tr>\n",
       "  </tbody>\n",
       "</table>\n",
       "</div>"
      ],
      "text/plain": [
       "         KO       PFE       JNJ       MRK\n",
       "0  0.007415  0.013831  0.013213  0.035223\n",
       "1  0.027068  0.028187  0.041443  0.042179\n",
       "2  0.921559  0.919737  0.877447  0.883078\n",
       "3  0.112564  0.111511  0.167293  0.154442\n",
       "4  6.018467  6.002454  6.383477  4.383527"
      ]
     },
     "execution_count": 12,
     "metadata": {},
     "output_type": "execute_result"
    }
   ],
   "source": [
    "parameters_w_lev"
   ]
  },
  {
   "cell_type": "markdown",
   "id": "c9817b48",
   "metadata": {},
   "source": [
    "## Question 4"
   ]
  },
  {
   "cell_type": "code",
   "execution_count": 13,
   "id": "7a6c86ae",
   "metadata": {},
   "outputs": [],
   "source": [
    "vol_no_lev   = pd.DataFrame(columns=['KO', 'PFE', 'JNJ', 'MRK'])\n",
    "vol_w_lev = pd.DataFrame(columns=['KO', 'PFE', 'JNJ', 'MRK'])"
   ]
  },
  {
   "cell_type": "code",
   "execution_count": 14,
   "id": "5733a259",
   "metadata": {},
   "outputs": [
    {
     "name": "stdout",
     "output_type": "stream",
     "text": [
      "KO\n"
     ]
    },
    {
     "data": {
      "image/png": "[encoded data removed]",
      "text/plain": [
       "<Figure size 432x288 with 1 Axes>"
      ]
     },
     "metadata": {
      "needs_background": "light"
     },
     "output_type": "display_data"
    },
    {
     "name": "stdout",
     "output_type": "stream",
     "text": [
      "PFE\n"
     ]
    },
    {
     "data": {
      "image/png": "[encoded data removed]",
      "text/plain": [
       "<Figure size 432x288 with 1 Axes>"
      ]
     },
     "metadata": {
      "needs_background": "light"
     },
     "output_type": "display_data"
    },
    {
     "name": "stdout",
     "output_type": "stream",
     "text": [
      "JNJ\n"
     ]
    },
    {
     "data": {
      "image/png": "[encoded data removed]",
      "text/plain": [
       "<Figure size 432x288 with 1 Axes>"
      ]
     },
     "metadata": {
      "needs_background": "light"
     },
     "output_type": "display_data"
    },
    {
     "name": "stdout",
     "output_type": "stream",
     "text": [
      "MRK\n"
     ]
    },
    {
     "data": {
      "image/png": "[encoded data removed]",
      "text/plain": [
       "<Figure size 432x288 with 1 Axes>"
      ]
     },
     "metadata": {
      "needs_background": "light"
     },
     "output_type": "display_data"
    }
   ],
   "source": [
    "#Filtered volatilities for model without leverage\n",
    "for stock_name in raw_data.TICKER.unique():\n",
    "    dataframe_stock_name = pd.DataFrame(raw_data.RET[raw_data.TICKER == stock_name].reset_index())\n",
    "    \n",
    "    x = dataframe_stock_name.RET\n",
    "    T= len(x)\n",
    "    omega   =   parameters_no_lev[stock_name].loc[0]\n",
    "    alpha   =   parameters_no_lev[stock_name].loc[1]\n",
    "    beta    =   parameters_no_lev[stock_name].loc[2]\n",
    "    lambda1 =   parameters_no_lev[stock_name].loc[3]\n",
    "\n",
    "\n",
    "    sigma2 = np.zeros(T)\n",
    "    sigma2[0] = np.var(dataframe_stock_name.RET.iloc[0:50]) #initialize volatility\n",
    "    \n",
    "\n",
    "    for t in range(0,T-1):\n",
    "        sigma2[t+1] =  omega + (alpha*(x[t]**2))/(1+((x[t]**2)/(lambda1*sigma2[t]))) + beta*sigma2[t]\n",
    "    \n",
    "    vol_no_lev[stock_name] = sigma2\n",
    "\n",
    "    plt.figure()\n",
    "    plt.plot(sigma2)\n",
    "    print(stock_name)\n",
    "    # Show/save figure as desired.\n",
    "    plt.show()"
   ]
  },
  {
   "cell_type": "code",
   "execution_count": 15,
   "id": "e9cc2789",
   "metadata": {},
   "outputs": [
    {
     "name": "stdout",
     "output_type": "stream",
     "text": [
      "KO\n"
     ]
    },
    {
     "data": {
      "image/png": "[encoded data removed]",
      "text/plain": [
       "<Figure size 432x288 with 1 Axes>"
      ]
     },
     "metadata": {
      "needs_background": "light"
     },
     "output_type": "display_data"
    },
    {
     "name": "stdout",
     "output_type": "stream",
     "text": [
      "PFE\n"
     ]
    },
    {
     "data": {
      "image/png": "[encoded data removed]",
      "text/plain": [
       "<Figure size 432x288 with 1 Axes>"
      ]
     },
     "metadata": {
      "needs_background": "light"
     },
     "output_type": "display_data"
    },
    {
     "name": "stdout",
     "output_type": "stream",
     "text": [
      "JNJ\n"
     ]
    },
    {
     "data": {
      "image/png": "[encoded data removed]",
      "text/plain": [
       "<Figure size 432x288 with 1 Axes>"
      ]
     },
     "metadata": {
      "needs_background": "light"
     },
     "output_type": "display_data"
    },
    {
     "name": "stdout",
     "output_type": "stream",
     "text": [
      "MRK\n"
     ]
    },
    {
     "data": {
      "image/png": "[encoded data removed]",
      "text/plain": [
       "<Figure size 432x288 with 1 Axes>"
      ]
     },
     "metadata": {
      "needs_background": "light"
     },
     "output_type": "display_data"
    }
   ],
   "source": [
    "#Filtered volatilities for model with leverage\n",
    "for stock_name in raw_data.TICKER.unique():\n",
    "    dataframe_stock_name = pd.DataFrame(raw_data.RET[raw_data.TICKER == stock_name].reset_index())\n",
    "    \n",
    "    x = dataframe_stock_name.RET\n",
    "    T= len(x)\n",
    "    omega   =   parameters_w_lev[stock_name].loc[0]\n",
    "    alpha   =   parameters_w_lev[stock_name].loc[1]\n",
    "    beta    =   parameters_w_lev[stock_name].loc[2]\n",
    "    delta   =   parameters_w_lev[stock_name].loc[3]\n",
    "    lambda1 =   parameters_w_lev[stock_name].loc[4]\n",
    "\n",
    "\n",
    "    sigma2 = np.zeros(T)\n",
    "    sigma2[0] = np.var(dataframe_stock_name.RET.iloc[0:50]) #initialize volatility\n",
    "    \n",
    "    for t in range(0,T-1):\n",
    "        if x[t] < 0:\n",
    "            sigma2[t+1] = omega + ((alpha*(x[t]**2))+(delta*(x[t]**2)))/(1+((x[t]**2)/(lambda1*sigma2[t]))) + beta*sigma2[t]\n",
    "        else:\n",
    "            sigma2[t+1] = omega + (alpha*(x[t]**2))/(1+((x[t]**2)/(lambda1*sigma2[t]))) + beta*sigma2[t]\n",
    "\n",
    "    vol_w_lev[stock_name] = sigma2\n",
    "\n",
    "    plt.figure()\n",
    "    plt.plot(sigma2)\n",
    "    print(stock_name)\n",
    "    # Show/save figure as desired.\n",
    "    plt.show()"
   ]
  },
  {
   "cell_type": "markdown",
   "id": "7b1ae3a6",
   "metadata": {},
   "source": [
    "## Scrap paper"
   ]
  },
  {
   "cell_type": "code",
   "execution_count": null,
   "id": "af10f981",
   "metadata": {},
   "outputs": [],
   "source": []
  }
 ],
 "metadata": {
  "kernelspec": {
   "display_name": "Python 3 (ipykernel)",
   "language": "python",
   "name": "python3"
  },
  "language_info": {
   "codemirror_mode": {
    "name": "ipython",
    "version": 3
   },
   "file_extension": ".py",
   "mimetype": "text/x-python",
   "name": "python",
   "nbconvert_exporter": "python",
   "pygments_lexer": "ipython3",
   "version": "3.10.3"
  }
 },
 "nbformat": 4,
 "nbformat_minor": 5
}
