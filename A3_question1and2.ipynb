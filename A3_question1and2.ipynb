{
 "cells": [
  {
   "cell_type": "markdown",
   "metadata": {},
   "source": [
    "**Assignment III - Advanced Econometrics**\n",
    "2022-2023\n"
   ]
  },
  {
   "cell_type": "markdown",
   "metadata": {},
   "source": [
    "Sven van Zoelen, Marte Ottesen, Jan Koolbergen"
   ]
  },
  {
   "cell_type": "code",
   "execution_count": 6,
   "metadata": {},
   "outputs": [
    {
     "name": "stderr",
     "output_type": "stream",
     "text": [
      "153767.80s - pydevd: Sending message related to process being replaced timed-out after 5 seconds\n"
     ]
    },
    {
     "name": "stdout",
     "output_type": "stream",
     "text": [
      "Collecting numpy\n",
      "  Downloading numpy-1.23.3-cp310-cp310-macosx_10_9_x86_64.whl (18.1 MB)\n",
      "\u001b[2K     \u001b[90m━━━━━━━━━━━━━━━━━━━━━━━━━━━━━━━━━━━━━━━━\u001b[0m \u001b[32m18.1/18.1 MB\u001b[0m \u001b[31m20.1 MB/s\u001b[0m eta \u001b[36m0:00:00\u001b[0m00:01\u001b[0m00:01\u001b[0m\n",
      "\u001b[?25hInstalling collected packages: numpy\n",
      "Successfully installed numpy-1.23.3\n",
      "Note: you may need to restart the kernel to use updated packages.\n"
     ]
    }
   ],
   "source": [
    "\n"
   ]
  },
  {
   "cell_type": "code",
   "execution_count": 16,
   "metadata": {},
   "outputs": [],
   "source": [
    "### First we import the packages that we are going to use:\n",
    "# You have to run this cell before any other, as they otherwise won't work\n",
    "# If you get an error, the package is probably not installed\n",
    "# You can then run 'conda install <package_name>' from the anaconda integrated terminal\n",
    "# All these packages should be installed by default though\n",
    "\n",
    "import numpy as np                  # Numpy is used for all kinds of mathematical stuff, especially related to matrices\n",
    "import scipy.stats as sts           # SciPy is built specifically for statistical computing\n",
    "import pandas as pd                 # Pandas is for reading in files and using dataframes\n",
    "import matplotlib.pyplot as plt     # This package is used for the plotting framework, and can be used standalone\n",
    "import seaborn as sns               # I use this package for nicer plots than the standard matplotlib plots"
   ]
  },
  {
   "cell_type": "code",
   "execution_count": 17,
   "metadata": {},
   "outputs": [
    {
     "data": {
      "text/html": [
       "<div>\n",
       "<style scoped>\n",
       "    .dataframe tbody tr th:only-of-type {\n",
       "        vertical-align: middle;\n",
       "    }\n",
       "\n",
       "    .dataframe tbody tr th {\n",
       "        vertical-align: top;\n",
       "    }\n",
       "\n",
       "    .dataframe thead th {\n",
       "        text-align: right;\n",
       "    }\n",
       "</style>\n",
       "<table border=\"1\" class=\"dataframe\">\n",
       "  <thead>\n",
       "    <tr style=\"text-align: right;\">\n",
       "      <th></th>\n",
       "      <th>PERMNO</th>\n",
       "      <th>date</th>\n",
       "      <th>TICKER</th>\n",
       "      <th>RET</th>\n",
       "    </tr>\n",
       "  </thead>\n",
       "  <tbody>\n",
       "    <tr>\n",
       "      <th>0</th>\n",
       "      <td>11308</td>\n",
       "      <td>2001/01/02</td>\n",
       "      <td>KO</td>\n",
       "      <td>-0.002051</td>\n",
       "    </tr>\n",
       "    <tr>\n",
       "      <th>1</th>\n",
       "      <td>11308</td>\n",
       "      <td>2001/01/03</td>\n",
       "      <td>KO</td>\n",
       "      <td>-0.025694</td>\n",
       "    </tr>\n",
       "    <tr>\n",
       "      <th>2</th>\n",
       "      <td>11308</td>\n",
       "      <td>2001/01/04</td>\n",
       "      <td>KO</td>\n",
       "      <td>-0.028481</td>\n",
       "    </tr>\n",
       "    <tr>\n",
       "      <th>3</th>\n",
       "      <td>11308</td>\n",
       "      <td>2001/01/05</td>\n",
       "      <td>KO</td>\n",
       "      <td>0.002172</td>\n",
       "    </tr>\n",
       "    <tr>\n",
       "      <th>4</th>\n",
       "      <td>11308</td>\n",
       "      <td>2001/01/08</td>\n",
       "      <td>KO</td>\n",
       "      <td>0.016251</td>\n",
       "    </tr>\n",
       "    <tr>\n",
       "      <th>...</th>\n",
       "      <td>...</td>\n",
       "      <td>...</td>\n",
       "      <td>...</td>\n",
       "      <td>...</td>\n",
       "    </tr>\n",
       "    <tr>\n",
       "      <th>21131</th>\n",
       "      <td>22752</td>\n",
       "      <td>2021/12/27</td>\n",
       "      <td>MRK</td>\n",
       "      <td>0.011092</td>\n",
       "    </tr>\n",
       "    <tr>\n",
       "      <th>21132</th>\n",
       "      <td>22752</td>\n",
       "      <td>2021/12/28</td>\n",
       "      <td>MRK</td>\n",
       "      <td>0.003134</td>\n",
       "    </tr>\n",
       "    <tr>\n",
       "      <th>21133</th>\n",
       "      <td>22752</td>\n",
       "      <td>2021/12/29</td>\n",
       "      <td>MRK</td>\n",
       "      <td>0.001823</td>\n",
       "    </tr>\n",
       "    <tr>\n",
       "      <th>21134</th>\n",
       "      <td>22752</td>\n",
       "      <td>2021/12/30</td>\n",
       "      <td>MRK</td>\n",
       "      <td>0.002469</td>\n",
       "    </tr>\n",
       "    <tr>\n",
       "      <th>21135</th>\n",
       "      <td>22752</td>\n",
       "      <td>2021/12/31</td>\n",
       "      <td>MRK</td>\n",
       "      <td>-0.006482</td>\n",
       "    </tr>\n",
       "  </tbody>\n",
       "</table>\n",
       "<p>21136 rows × 4 columns</p>\n",
       "</div>"
      ],
      "text/plain": [
       "       PERMNO        date TICKER       RET\n",
       "0       11308  2001/01/02     KO -0.002051\n",
       "1       11308  2001/01/03     KO -0.025694\n",
       "2       11308  2001/01/04     KO -0.028481\n",
       "3       11308  2001/01/05     KO  0.002172\n",
       "4       11308  2001/01/08     KO  0.016251\n",
       "...       ...         ...    ...       ...\n",
       "21131   22752  2021/12/27    MRK  0.011092\n",
       "21132   22752  2021/12/28    MRK  0.003134\n",
       "21133   22752  2021/12/29    MRK  0.001823\n",
       "21134   22752  2021/12/30    MRK  0.002469\n",
       "21135   22752  2021/12/31    MRK -0.006482\n",
       "\n",
       "[21136 rows x 4 columns]"
      ]
     },
     "execution_count": 17,
     "metadata": {},
     "output_type": "execute_result"
    }
   ],
   "source": [
    "### First of all we read the data into a dataframe\n",
    "raw_data = pd.read_csv(\"Assignment3_dataset.csv\")\n",
    "\n",
    "# Print the dataframe for a visual inspection\n",
    "raw_data"
   ]
  },
  {
   "cell_type": "code",
   "execution_count": 88,
   "metadata": {},
   "outputs": [
    {
     "name": "stdout",
     "output_type": "stream",
     "text": [
      "       PERMNO        date TICKER       RET\n",
      "10568   22111  2001/01/02    JNJ -0.029149\n",
      "10569   22111  2001/01/03    JNJ -0.031863\n",
      "10570   22111  2001/01/04    JNJ -0.021519\n",
      "10571   22111  2001/01/05    JNJ  0.012937\n",
      "10572   22111  2001/01/08    JNJ -0.001277\n",
      "...       ...         ...    ...       ...\n",
      "15847   22111  2021/12/27    JNJ  0.008440\n",
      "15848   22111  2021/12/28    JNJ  0.004008\n",
      "15849   22111  2021/12/29    JNJ  0.007044\n",
      "15850   22111  2021/12/30    JNJ  0.004430\n",
      "15851   22111  2021/12/31    JNJ -0.007196\n",
      "\n",
      "[5284 rows x 4 columns]\n",
      "This is the mean return for stock KO: 0.000312\n",
      "This is the mean return for stock PFE: 0.000313\n",
      "This is the mean return for stock JNJ: 0.000395\n",
      "This is the mean return for stock MRK: 0.000261\n",
      "\n",
      "This is the mean return for stock KO: 0.000312\n",
      "This is the mean return for stock PFE: 0.000313\n",
      "This is the mean return for stock JNJ: 0.000395\n",
      "This is the mean return for stock MRK: 0.000261\n"
     ]
    }
   ],
   "source": [
    "### Now we want to divide the dataframe into seperate dataframes for each stock\n",
    "# In order to not have to hardcode the ticker values, I use a dictionary comprehension:\n",
    "data_dict = {stock: raw_data[raw_data.TICKER == stock] for stock in raw_data.TICKER.unique()}\n",
    "\n",
    "# Now you can access the dataset using the name for example\n",
    "print(data_dict['JNJ'])\n",
    "\n",
    "# And more importantly, you can loop over the keys to apply a function to all datasets, which makes the assignment way easier\n",
    "for stock in data_dict:\n",
    "    mean = np.mean(data_dict[stock].RET)\n",
    "    print(f\"This is the mean return for stock {stock}: {mean:.6f}\")\n",
    "    \n",
    "print(\"\") # Just skipping a line\n",
    "# Or even easier, loop through name and value at the same time:\n",
    "for stock_name, stock_data in data_dict.items():\n",
    "    mean = np.mean(stock_data.RET)\n",
    "    print(f\"This is the mean return for stock {stock_name}: {mean:.6f}\")"
   ]
  },
  {
   "cell_type": "code",
   "execution_count": 19,
   "metadata": {},
   "outputs": [
    {
     "name": "stdout",
     "output_type": "stream",
     "text": [
      "This is the mean return for stock KO: 0.000312\n",
      "This is the mean return for stock PFE: 0.000313\n",
      "This is the mean return for stock JNJ: 0.000395\n",
      "This is the mean return for stock MRK: 0.000312\n"
     ]
    }
   ],
   "source": [
    "### The above cell boils down to doing this:\n",
    "KO_data     = raw_data[raw_data.TICKER == 'KO']\n",
    "PFE_data    = raw_data[raw_data.TICKER == 'PFE']\n",
    "JNJ_data    = raw_data[raw_data.TICKER == 'JNJ']\n",
    "MRK_data    = raw_data[raw_data.TICKER == 'KO']\n",
    "\n",
    "KO_mean     = np.mean(KO_data.RET)\n",
    "PFE_mean    = np.mean(PFE_data.RET)\n",
    "JNJ_mean    = np.mean(JNJ_data.RET)\n",
    "MRK_mean    = np.mean(MRK_data.RET)\n",
    "\n",
    "print(f\"This is the mean return for stock KO: {KO_mean:.6f}\")\n",
    "print(f\"This is the mean return for stock PFE: {PFE_mean:.6f}\")\n",
    "print(f\"This is the mean return for stock JNJ: {JNJ_mean:.6f}\")\n",
    "print(f\"This is the mean return for stock MRK: {MRK_mean:.6f}\")\n",
    "\n"
   ]
  },
  {
   "cell_type": "code",
   "execution_count": 49,
   "metadata": {},
   "outputs": [
    {
     "name": "stderr",
     "output_type": "stream",
     "text": [
      "/var/folders/9m/qxm3c3hn1v1cjsk_phjxp9xc0000gn/T/ipykernel_85811/775003296.py:5: SettingWithCopyWarning: \n",
      "A value is trying to be set on a copy of a slice from a DataFrame.\n",
      "Try using .loc[row_indexer,col_indexer] = value instead\n",
      "\n",
      "See the caveats in the documentation: https://pandas.pydata.org/pandas-docs/stable/user_guide/indexing.html#returning-a-view-versus-a-copy\n",
      "  stock_data.RET = stock_data.RET.transform(lambda ret: ret - mean_return)\n",
      "/var/folders/9m/qxm3c3hn1v1cjsk_phjxp9xc0000gn/T/ipykernel_85811/775003296.py:6: SettingWithCopyWarning: \n",
      "A value is trying to be set on a copy of a slice from a DataFrame.\n",
      "Try using .loc[row_indexer,col_indexer] = value instead\n",
      "\n",
      "See the caveats in the documentation: https://pandas.pydata.org/pandas-docs/stable/user_guide/indexing.html#returning-a-view-versus-a-copy\n",
      "  stock_data.RET = stock_data.RET.transform(lambda ret: ret * 100)\n"
     ]
    }
   ],
   "source": [
    "### Apply the pre-processing. Be careful to not run this function more than once, as it will scale the data with 100 every run.\n",
    "# To reset the underlying data, just run the cell with the list comprehension again\n",
    "for stock_name, stock_data in data_dict.items():\n",
    "    mean_return = np.mean(stock_data.RET)\n",
    "    stock_data.RET = stock_data.RET.transform(lambda ret: ret - mean_return)\n",
    "    stock_data.RET = stock_data.RET.transform(lambda ret: ret * 100)"
   ]
  },
  {
   "cell_type": "markdown",
   "metadata": {},
   "source": [
    "Question 1:"
   ]
  },
  {
   "cell_type": "code",
   "execution_count": 193,
   "metadata": {},
   "outputs": [
    {
     "name": "stderr",
     "output_type": "stream",
     "text": [
      "/Library/Frameworks/Python.framework/Versions/3.10/lib/python3.10/site-packages/arch/univariate/base.py:309: DataScaleWarning: y is poorly scaled, which may affect convergence of the optimizer when\n",
      "estimating the model parameters. The scale of y is 0.0001981. Parameter\n",
      "estimation work better when this value is between 1 and 1000. The recommended\n",
      "rescaling is 100 * y.\n",
      "\n",
      "This warning can be disabled by either rescaling y before initializing the\n",
      "model or by setting rescale=False.\n",
      "\n",
      "  warnings.warn(\n"
     ]
    },
    {
     "name": "stdout",
     "output_type": "stream",
     "text": [
      "tGARCH(1,1) model: \n",
      "                           Zero Mean - GARCH Model Results                           \n",
      "====================================================================================\n",
      "Dep. Variable:                          RET   R-squared:                       0.000\n",
      "Mean Model:                       Zero Mean   Adj. R-squared:                  0.000\n",
      "Vol Model:                            GARCH   Log-Likelihood:                64713.6\n",
      "Distribution:      Standardized Student's t   AIC:                          -129419.\n",
      "Method:                  Maximum Likelihood   BIC:                          -129387.\n",
      "                                              No. Observations:                21136\n",
      "Date:                      Sun, Oct 09 2022   Df Residuals:                    21136\n",
      "Time:                              16:10:08   Df Model:                            0\n",
      "                              Volatility Model                              \n",
      "============================================================================\n",
      "                 coef    std err          t      P>|t|      95.0% Conf. Int.\n",
      "----------------------------------------------------------------------------\n",
      "omega      4.3483e-06  4.178e-09   1040.686      0.000 [4.340e-06,4.356e-06]\n",
      "alpha[1]       0.1019  4.659e-03     21.880 3.994e-106   [9.281e-02,  0.111]\n",
      "beta[1]        0.8746  4.639e-03    188.546      0.000     [  0.865,  0.884]\n",
      "                              Distribution                              \n",
      "========================================================================\n",
      "                 coef    std err          t      P>|t|  95.0% Conf. Int.\n",
      "------------------------------------------------------------------------\n",
      "nu             5.2081      0.126     41.250      0.000 [  4.961,  5.456]\n",
      "========================================================================\n",
      "\n",
      "Covariance estimator: robust \n",
      "\n"
     ]
    }
   ],
   "source": [
    "## Ignore this I'm just seeing what the dataset looks like fitted to the built in code for arch\n",
    "\n",
    "from arch import arch_model\n",
    "am = arch_model(raw_data.RET, mean = 'Zero', vol='Garch', p=1, o=0, q=1, dist='StudentsT')\n",
    "tgarch1_1 = am.fit(update_freq=5, disp = \"off\")\n",
    "print(\"tGARCH(1,1) model:\", \"\\n\", tgarch1_1.summary(), \"\\n\")"
   ]
  },
  {
   "cell_type": "markdown",
   "metadata": {},
   "source": [
    "Nooow lets define our parameters:"
   ]
  },
  {
   "cell_type": "code",
   "execution_count": 232,
   "metadata": {},
   "outputs": [],
   "source": [
    "## Define delta and lambda\n",
    "lamda= [2, 5, 10, 50]\n",
    "delta= [0, 1, 0.2, 0.4]\n"
   ]
  },
  {
   "cell_type": "code",
   "execution_count": 233,
   "metadata": {},
   "outputs": [],
   "source": [
    "## Define parameters in the robust GARCH Model\n",
    "n=len(stock_data)\n",
    "omega=0\n",
    "alpha=0.05\n",
    "beta=0.9\n",
    "sigmasq_last=1\n",
    "x=stock_data.RET"
   ]
  },
  {
   "cell_type": "code",
   "execution_count": 234,
   "metadata": {},
   "outputs": [],
   "source": [
    "## Attempt at simulating GARCH model\n",
    "from statistics import variance\n",
    "\n",
    "\n",
    "def simulate_GARCH(n, omega, alpha, beta, dist='StudentsT'):\n",
    "    # Initialize the parameters\n",
    "    white_noise = np.random.standard_t(size = n)\n",
    "    resid = np.zeros_like(white_noise)\n",
    "    variance = np.zeros_like(white_noise)\n",
    "    \n",
    "    for t in range(1, n):\n",
    "        # Simulate the variance (sigma squared)\n",
    "        variance[t] = omega + (alpha * x[t-1]**2 + dlt * x[t-1]**2) / (1 + (x[t-1]**2/lmd*sigmasq_last))+ beta * sigmasq_last\n",
    "        # Simulate the residuals\n",
    "        resid[t] = np.sqrt(variance[t]) * white_noise[t]    \n",
    "    \n"
   ]
  },
  {
   "cell_type": "code",
   "execution_count": 237,
   "metadata": {},
   "outputs": [
    {
     "ename": "NameError",
     "evalue": "name 'newsimpact' is not defined",
     "output_type": "error",
     "traceback": [
      "\u001b[0;31m---------------------------------------------------------------------------\u001b[0m",
      "\u001b[0;31mNameError\u001b[0m                                 Traceback (most recent call last)",
      "Cell \u001b[0;32mIn [237], line 3\u001b[0m\n\u001b[1;32m      1\u001b[0m \u001b[38;5;66;03m## now I dont know what I'm doing but want to plot the model/variance\u001b[39;00m\n\u001b[0;32m----> 3\u001b[0m ni\u001b[38;5;241m.\u001b[39mgarch \u001b[38;5;241m=\u001b[39m newsimpact(simulate_GARCH)\n\u001b[1;32m      4\u001b[0m plt\u001b[38;5;241m.\u001b[39mplot(ni\u001b[38;5;241m.\u001b[39mgarch)\n",
      "\u001b[0;31mNameError\u001b[0m: name 'newsimpact' is not defined"
     ]
    }
   ],
   "source": [
    "## now I dont know what I'm doing but want to plot the model/variance\n",
    "\n",
    "ni.garch = newsimpact(simulate_GARCH)\n",
    "plt.plot(ni.garch)"
   ]
  },
  {
   "cell_type": "markdown",
   "metadata": {},
   "source": [
    "Question 2:"
   ]
  },
  {
   "cell_type": "code",
   "execution_count": 199,
   "metadata": {},
   "outputs": [],
   "source": [
    "### We first define a function to report the summary statistics for one stock\n",
    "# We can then use a for loop to do this for every plot\n",
    "def summary_statistics(stock_data):\n",
    "    \"\"\"This function takes in some stock data and reports some summary statistics.\"\"\"\n",
    "    returns = stock_data.RET # Just put this in a variable for convenience\n",
    "    \n",
    "    no_of_observations = len(returns)\n",
    "    mean = np.mean(returns)\n",
    "    \n",
    "    # medians\n",
    "    Q1 = np.percentile(returns, 25)\n",
    "    Q2 = np.percentile(returns, 50)\n",
    "    Q3 = np.percentile(returns, 75)\n",
    "    \n",
    "    standard_deviation = np.std(returns)\n",
    "    skewness = sts.skew(returns)\n",
    "    kurtosis = sts.kurtosis(returns)\n",
    "    \n",
    "    minimum = np.min(returns)\n",
    "    maximum = np.max(returns)\n",
    "    \n",
    "    # Now we report the results:\n",
    "    print(f\"Number of observations: {no_of_observations}\")\n",
    "    print(f\"Mean: {mean}\")\n",
    "    print(f\"Q1: {Q1}\")\n",
    "    print(f\"Q2: {Q2}\")\n",
    "    print(f\"Q3: {Q3}\")\n",
    "    print(f\"Standard deviation: {standard_deviation}\")\n",
    "    print(f\"Skewness: {skewness}\")\n",
    "    print(f\"Kurtosis {kurtosis}\")\n",
    "    print(f\"Min: {minimum}\")\n",
    "    print(f\"Max: {maximum}\")\n"
   ]
  },
  {
   "cell_type": "code",
   "execution_count": null,
   "metadata": {},
   "outputs": [],
   "source": [
    "### Call the function in a for loop\n",
    "for stock_name, stock_data in data_dict.items():\n",
    "    print(f\"\\nSummary statistics for stock {stock_name}:\")\n",
    "    summary_statistics(stock_data)"
   ]
  },
  {
   "cell_type": "markdown",
   "metadata": {},
   "source": []
  },
  {
   "cell_type": "code",
   "execution_count": null,
   "metadata": {},
   "outputs": [],
   "source": [
    "### If necessary, we can also just call it on one dataset\n",
    "summary_statistics(data_dict['JNJ'])"
   ]
  },
  {
   "cell_type": "code",
   "execution_count": 231,
   "metadata": {},
   "outputs": [
    {
     "data": {
      "text/plain": [
       "Text(0, 0.5, 'Returns MRK')"
      ]
     },
     "execution_count": 231,
     "metadata": {},
     "output_type": "execute_result"
    },
    {
     "data": {
      "image/png": "[encoded data removed]",
      "text/plain": [
       "<Figure size 640x480 with 4 Axes>"
      ]
     },
     "metadata": {},
     "output_type": "display_data"
    }
   ],
   "source": [
    "## Plot the returns \n",
    "from turtle import color\n",
    "\n",
    "fig, (ax1, ax2, ax3, ax4) = plt.subplots(4)\n",
    "ax1.plot(KO_data.RET, linewidth=0.5, color='slateblue')\n",
    "ax1.set_ylabel('Returns KO')\n",
    "ax2.plot(PFE_data.RET, linewidth=0.5, color='lightsteelblue')\n",
    "ax2.set_ylabel('Returns PFE')\n",
    "ax3.plot(JNJ_data.RET, linewidth=0.5, color='lightslategrey')\n",
    "ax3.set_ylabel('Returns JNJ')\n",
    "ax4.plot(MRK_data.RET, linewidth=0.5, color='cadetblue')\n",
    "ax4.set_ylabel('Returns MRK')\n",
    "\n",
    "\n",
    "## Need to define x-axis as time period for each stock and use sharex=() to apply"
   ]
  }
 ],
 "metadata": {
  "kernelspec": {
   "display_name": "Python 3.10.7 64-bit",
   "language": "python",
   "name": "python3"
  },
  "language_info": {
   "codemirror_mode": {
    "name": "ipython",
    "version": 3
   },
   "file_extension": ".py",
   "mimetype": "text/x-python",
   "name": "python",
   "nbconvert_exporter": "python",
   "pygments_lexer": "ipython3",
   "version": "3.10.7"
  },
  "orig_nbformat": 4,
  "vscode": {
   "interpreter": {
    "hash": "aee8b7b246df8f9039afb4144a1f6fd8d2ca17a180786b69acc140d282b71a49"
   }
  }
 },
 "nbformat": 4,
 "nbformat_minor": 2
}
