{
 "cells": [
  {
   "cell_type": "markdown",
   "id": "bf8f835d",
   "metadata": {},
   "source": [
    "# Part 1:"
   ]
  },
  {
   "cell_type": "code",
   "execution_count": 1,
   "id": "0b683435",
   "metadata": {},
   "outputs": [],
   "source": [
    "import numpy as np                \n",
    "import scipy.stats as sts           \n",
    "import pandas as pd                 \n",
    "import matplotlib.pyplot as plt    \n",
    "import seaborn as sns  \n",
    "import math \n",
    "import scipy\n",
    "from sklearn.linear_model import LinearRegression\n",
    "from sklearn.metrics import r2_score, mean_squared_error\n",
    "import statsmodels.api as sm"
   ]
  },
  {
   "cell_type": "code",
   "execution_count": 2,
   "id": "217b7156",
   "metadata": {},
   "outputs": [],
   "source": [
    "#Import the data\n",
    "marketing_data = pd.read_csv(\"marketing_data.csv\", header=None)"
   ]
  },
  {
   "cell_type": "code",
   "execution_count": 3,
   "id": "7aa10f00",
   "metadata": {},
   "outputs": [
    {
     "data": {
      "text/html": [
       "<div>\n",
       "<style scoped>\n",
       "    .dataframe tbody tr th:only-of-type {\n",
       "        vertical-align: middle;\n",
       "    }\n",
       "\n",
       "    .dataframe tbody tr th {\n",
       "        vertical-align: top;\n",
       "    }\n",
       "\n",
       "    .dataframe thead th {\n",
       "        text-align: right;\n",
       "    }\n",
       "</style>\n",
       "<table border=\"1\" class=\"dataframe\">\n",
       "  <thead>\n",
       "    <tr style=\"text-align: right;\">\n",
       "      <th></th>\n",
       "      <th>0</th>\n",
       "      <th>1</th>\n",
       "      <th>2</th>\n",
       "    </tr>\n",
       "  </thead>\n",
       "  <tbody>\n",
       "    <tr>\n",
       "      <th>0</th>\n",
       "      <td>83.689</td>\n",
       "      <td>7.015300</td>\n",
       "      <td>51.503</td>\n",
       "    </tr>\n",
       "    <tr>\n",
       "      <th>1</th>\n",
       "      <td>81.268</td>\n",
       "      <td>0.000000</td>\n",
       "      <td>0.000</td>\n",
       "    </tr>\n",
       "    <tr>\n",
       "      <th>2</th>\n",
       "      <td>78.911</td>\n",
       "      <td>0.000000</td>\n",
       "      <td>0.000</td>\n",
       "    </tr>\n",
       "    <tr>\n",
       "      <th>3</th>\n",
       "      <td>77.005</td>\n",
       "      <td>11.568000</td>\n",
       "      <td>0.000</td>\n",
       "    </tr>\n",
       "    <tr>\n",
       "      <th>4</th>\n",
       "      <td>74.772</td>\n",
       "      <td>0.000000</td>\n",
       "      <td>0.000</td>\n",
       "    </tr>\n",
       "    <tr>\n",
       "      <th>...</th>\n",
       "      <td>...</td>\n",
       "      <td>...</td>\n",
       "      <td>...</td>\n",
       "    </tr>\n",
       "    <tr>\n",
       "      <th>2438</th>\n",
       "      <td>54.604</td>\n",
       "      <td>0.000000</td>\n",
       "      <td>0.000</td>\n",
       "    </tr>\n",
       "    <tr>\n",
       "      <th>2439</th>\n",
       "      <td>53.049</td>\n",
       "      <td>0.000000</td>\n",
       "      <td>0.000</td>\n",
       "    </tr>\n",
       "    <tr>\n",
       "      <th>2440</th>\n",
       "      <td>51.521</td>\n",
       "      <td>0.000000</td>\n",
       "      <td>0.000</td>\n",
       "    </tr>\n",
       "    <tr>\n",
       "      <th>2441</th>\n",
       "      <td>67.118</td>\n",
       "      <td>0.000055</td>\n",
       "      <td>44.673</td>\n",
       "    </tr>\n",
       "    <tr>\n",
       "      <th>2442</th>\n",
       "      <td>67.359</td>\n",
       "      <td>54.399000</td>\n",
       "      <td>0.000</td>\n",
       "    </tr>\n",
       "  </tbody>\n",
       "</table>\n",
       "<p>2443 rows × 3 columns</p>\n",
       "</div>"
      ],
      "text/plain": [
       "           0          1       2\n",
       "0     83.689   7.015300  51.503\n",
       "1     81.268   0.000000   0.000\n",
       "2     78.911   0.000000   0.000\n",
       "3     77.005  11.568000   0.000\n",
       "4     74.772   0.000000   0.000\n",
       "...      ...        ...     ...\n",
       "2438  54.604   0.000000   0.000\n",
       "2439  53.049   0.000000   0.000\n",
       "2440  51.521   0.000000   0.000\n",
       "2441  67.118   0.000055  44.673\n",
       "2442  67.359  54.399000   0.000\n",
       "\n",
       "[2443 rows x 3 columns]"
      ]
     },
     "execution_count": 3,
     "metadata": {},
     "output_type": "execute_result"
    }
   ],
   "source": [
    "marketing_data"
   ]
  },
  {
   "cell_type": "code",
   "execution_count": 4,
   "id": "f5491627",
   "metadata": {},
   "outputs": [
    {
     "data": {
      "text/plain": [
       "162861.05"
      ]
     },
     "execution_count": 4,
     "metadata": {},
     "output_type": "execute_result"
    }
   ],
   "source": [
    "np.sum(marketing_data[0]) #sales"
   ]
  },
  {
   "cell_type": "code",
   "execution_count": 5,
   "id": "915a84b9",
   "metadata": {},
   "outputs": [
    {
     "data": {
      "text/plain": [
       "1    13779.478384\n",
       "2    12748.691232\n",
       "dtype: float64"
      ]
     },
     "execution_count": 5,
     "metadata": {},
     "output_type": "execute_result"
    }
   ],
   "source": [
    "np.sum(marketing_data[[1,2]]) #expenditures"
   ]
  },
  {
   "cell_type": "code",
   "execution_count": 6,
   "id": "c6913fbd",
   "metadata": {},
   "outputs": [
    {
     "data": {
      "text/html": [
       "<div>\n",
       "<style scoped>\n",
       "    .dataframe tbody tr th:only-of-type {\n",
       "        vertical-align: middle;\n",
       "    }\n",
       "\n",
       "    .dataframe tbody tr th {\n",
       "        vertical-align: top;\n",
       "    }\n",
       "\n",
       "    .dataframe thead th {\n",
       "        text-align: right;\n",
       "    }\n",
       "</style>\n",
       "<table border=\"1\" class=\"dataframe\">\n",
       "  <thead>\n",
       "    <tr style=\"text-align: right;\">\n",
       "      <th></th>\n",
       "      <th>Sales</th>\n",
       "      <th>Google</th>\n",
       "      <th>YT</th>\n",
       "    </tr>\n",
       "  </thead>\n",
       "  <tbody>\n",
       "    <tr>\n",
       "      <th>0</th>\n",
       "      <td>83.689</td>\n",
       "      <td>7.015300</td>\n",
       "      <td>51.503</td>\n",
       "    </tr>\n",
       "    <tr>\n",
       "      <th>1</th>\n",
       "      <td>81.268</td>\n",
       "      <td>0.000000</td>\n",
       "      <td>0.000</td>\n",
       "    </tr>\n",
       "    <tr>\n",
       "      <th>2</th>\n",
       "      <td>78.911</td>\n",
       "      <td>0.000000</td>\n",
       "      <td>0.000</td>\n",
       "    </tr>\n",
       "    <tr>\n",
       "      <th>3</th>\n",
       "      <td>77.005</td>\n",
       "      <td>11.568000</td>\n",
       "      <td>0.000</td>\n",
       "    </tr>\n",
       "    <tr>\n",
       "      <th>4</th>\n",
       "      <td>74.772</td>\n",
       "      <td>0.000000</td>\n",
       "      <td>0.000</td>\n",
       "    </tr>\n",
       "    <tr>\n",
       "      <th>...</th>\n",
       "      <td>...</td>\n",
       "      <td>...</td>\n",
       "      <td>...</td>\n",
       "    </tr>\n",
       "    <tr>\n",
       "      <th>2438</th>\n",
       "      <td>54.604</td>\n",
       "      <td>0.000000</td>\n",
       "      <td>0.000</td>\n",
       "    </tr>\n",
       "    <tr>\n",
       "      <th>2439</th>\n",
       "      <td>53.049</td>\n",
       "      <td>0.000000</td>\n",
       "      <td>0.000</td>\n",
       "    </tr>\n",
       "    <tr>\n",
       "      <th>2440</th>\n",
       "      <td>51.521</td>\n",
       "      <td>0.000000</td>\n",
       "      <td>0.000</td>\n",
       "    </tr>\n",
       "    <tr>\n",
       "      <th>2441</th>\n",
       "      <td>67.118</td>\n",
       "      <td>0.000055</td>\n",
       "      <td>44.673</td>\n",
       "    </tr>\n",
       "    <tr>\n",
       "      <th>2442</th>\n",
       "      <td>67.359</td>\n",
       "      <td>54.399000</td>\n",
       "      <td>0.000</td>\n",
       "    </tr>\n",
       "  </tbody>\n",
       "</table>\n",
       "<p>2443 rows × 3 columns</p>\n",
       "</div>"
      ],
      "text/plain": [
       "       Sales     Google      YT\n",
       "0     83.689   7.015300  51.503\n",
       "1     81.268   0.000000   0.000\n",
       "2     78.911   0.000000   0.000\n",
       "3     77.005  11.568000   0.000\n",
       "4     74.772   0.000000   0.000\n",
       "...      ...        ...     ...\n",
       "2438  54.604   0.000000   0.000\n",
       "2439  53.049   0.000000   0.000\n",
       "2440  51.521   0.000000   0.000\n",
       "2441  67.118   0.000055  44.673\n",
       "2442  67.359  54.399000   0.000\n",
       "\n",
       "[2443 rows x 3 columns]"
      ]
     },
     "execution_count": 6,
     "metadata": {},
     "output_type": "execute_result"
    }
   ],
   "source": [
    "#rename columns\n",
    "marketing_data = marketing_data.rename(columns={0:\"Sales\", 1:\"Google\", 2:\"YT\"}) \n",
    "marketing_data\n"
   ]
  },
  {
   "cell_type": "code",
   "execution_count": 47,
   "id": "d38d098c",
   "metadata": {},
   "outputs": [
    {
     "data": {
      "text/plain": [
       "1       81.268\n",
       "2       78.911\n",
       "3       77.005\n",
       "4       74.772\n",
       "5       72.614\n",
       "         ...  \n",
       "2438    54.604\n",
       "2439    53.049\n",
       "2440    51.521\n",
       "2441    67.118\n",
       "2442    67.359\n",
       "Name: Sales, Length: 2442, dtype: float64"
      ]
     },
     "execution_count": 47,
     "metadata": {},
     "output_type": "execute_result"
    }
   ],
   "source": [
    "marketing_data.Sales[1:]"
   ]
  },
  {
   "cell_type": "markdown",
   "id": "145edc72",
   "metadata": {},
   "source": [
    "## Question 1"
   ]
  },
  {
   "cell_type": "code",
   "execution_count": null,
   "id": "c0a948b0",
   "metadata": {},
   "outputs": [],
   "source": [
    "#Plot Sales, Google- and YT search expenditures\n",
    "marketing_data.plot(subplots=True, figsize=(10,10))\n",
    "plt.show()\n",
    "\n"
   ]
  },
  {
   "cell_type": "markdown",
   "id": "55f213d7",
   "metadata": {},
   "source": [
    "## Question 2"
   ]
  },
  {
   "cell_type": "code",
   "execution_count": 48,
   "id": "5012b957",
   "metadata": {},
   "outputs": [],
   "source": [
    "#Least Squares Function\n",
    "def least_squares(theta, T=len(marketing_data)):\n",
    "    \n",
    "    #transform parameter vector theta with link functions to impose restrictions\n",
    "    mu     = np.exp(theta[0])  #to ensure >0\n",
    "    phi1   = np.exp(theta[1])\n",
    "    phi2   = np.exp(theta[2])\n",
    "    delta1 = np.exp(theta[3])/(1+np.exp(theta[3]))  #to ensure >0 and <1\n",
    "    delta2 = np.exp(theta[4])/(1+np.exp(theta[4]))\n",
    "    alpha1 = np.exp(theta[5])\n",
    "    alpha2 = np.exp(theta[6])\n",
    "    beta1  = np.exp(theta[7])/(1+np.exp(theta[7]))\n",
    "    beta2  = np.exp(theta[8])/(1+np.exp(theta[8]))\n",
    "\n",
    "#     mu, phi1, phi2, delta1, delta2, alpha1,alpha2, beta1, beta2 = theta\n",
    "    \n",
    "    gads   = np.zeros(T)\n",
    "    yads   = np.zeros(T)\n",
    "    ls_function = np.zeros(T)\n",
    "    ls_function[0] = 0\n",
    "    gads[0]= 0\n",
    "    yads[0]= 0\n",
    "  \n",
    "    s  = marketing_data.Sales[1:]\n",
    "    g  = marketing_data.Google\n",
    "    y  = marketing_data.YT\n",
    "    \n",
    "    \n",
    "    for t in range(1,T):\n",
    "        gads[t] = beta1*gads[t-1] + alpha1*g[t]\n",
    "        yads[t] = beta2*yads[t-1] + alpha2*y[t]\n",
    "    \n",
    "    gads = gads[1:]\n",
    "    yads = yads[1:]\n",
    "     \n",
    "    ls_function = s - mu - phi1*(gads**delta1) - phi2*(yads**delta2)\n",
    "        \n",
    "    return 1/T*np.sum(ls_function[1:]**2)\n",
    "\n"
   ]
  },
  {
   "cell_type": "code",
   "execution_count": 49,
   "id": "1485f9d2",
   "metadata": {},
   "outputs": [],
   "source": [
    "#initial parameter values\n",
    "mu_ini     = 1\n",
    "phi1_ini   = 1\n",
    "phi2_ini   = 1\n",
    "delta1_ini = 0.5\n",
    "delta2_ini = 0.5\n",
    "alpha1_ini = 5\n",
    "alpha2_ini = 5\n",
    "beta1_ini  = 0.9\n",
    "beta2_ini   = 0.9\n",
    " \n",
    "#use inverse of link functions\n",
    "theta_ini = np.array([np.log(mu_ini),\n",
    "                      np.log(phi1_ini),\n",
    "                      np.log(phi2_ini),\n",
    "                      np.log(delta1_ini/(1-delta1_ini)),\n",
    "                      np.log(delta2_ini/(1-delta2_ini)),\n",
    "                      np.log(alpha1_ini),\n",
    "                      np.log(alpha2_ini),\n",
    "                      np.log(beta1_ini/(1-beta1_ini)),\n",
    "                      np.log(beta2_ini/(1-beta2_ini))])\n",
    "                    \n",
    "\n",
    "# theta_ini = np.array([mu_ini, phi1_ini, phi2_ini, delta1_ini, delta2_ini, alpha1_ini,alpha2_ini, beta1_ini, beta2_ini])\n",
    "\n",
    "\n",
    "\n",
    "                     \n",
    "                                                          \n",
    "                                                          \n",
    "                                                           "
   ]
  },
  {
   "cell_type": "code",
   "execution_count": 53,
   "id": "ae769c02",
   "metadata": {},
   "outputs": [
    {
     "name": "stdout",
     "output_type": "stream",
     "text": [
      "parameter estimates:\n",
      "\n",
      "mu     : 0.8894714468369126\n",
      "phi1   : 1.0524757649670828\n",
      "phi2   : 0.8198202350323597\n",
      "delta1 : 0.5441863264410819\n",
      "delta2 : 0.5305902881541009\n",
      "alpha1 : 0.08158315572970683\n",
      "alpha2 : 40.5709056972415\n",
      "beta1  : 0.8967026492829732\n",
      "beta2  : 0.9458904358253152\n",
      "\n",
      "\n",
      "ls function value\n",
      "20.297279551100452\n",
      "exit flag:\n",
      "True\n",
      "message:\n",
      "Optimization terminated successfully.\n"
     ]
    }
   ],
   "source": [
    "#Now, optimize \n",
    "results = scipy.optimize.minimize(least_squares, theta_ini, options={'maxiter':5000},method='Nelder-Mead')\n",
    "print(f'parameter estimates:')\n",
    "print(f'')\n",
    "print(f\"mu     : {np.exp(results.x[0])}\")\n",
    "print(f\"phi1   : {np.exp(results.x[1])}\")\n",
    "print(f\"phi2   : {np.exp(results.x[2])}\")\n",
    "print(f\"delta1 : {np.exp(results.x[3])/(1+np.exp(results.x[3]))}\")\n",
    "print(f\"delta2 : {np.exp(results.x[4])/(1+np.exp(results.x[4]))}\")\n",
    "print(f\"alpha1 : {np.exp(results.x[5])}\")\n",
    "print(f\"alpha2 : {np.exp(results.x[6])}\")\n",
    "print(f\"beta1  : {np.exp(results.x[7])/(1+np.exp(results.x[7]))}\")\n",
    "print(f\"beta2  : {np.exp(results.x[8])/(1+np.exp(results.x[8]))}\")\n",
    "\n",
    "#print(results.x)\n",
    "print(f'')\n",
    "print(f'')\n",
    "\n",
    "print('ls function value')\n",
    "print(results.fun)\n",
    "print('exit flag:')\n",
    "print(results.success)\n",
    "print('message:')\n",
    "print(results.message)"
   ]
  },
  {
   "cell_type": "code",
   "execution_count": null,
   "id": "e0d5507f",
   "metadata": {},
   "outputs": [],
   "source": [
    "#As mentioned in pdf file, small differences can produce vastly different point estimates. method to 'Neld\n",
    "#Changing the optimization method to 'Nelder-Mead' for example gives very different point estimates.\n",
    "#As we are not sure of the correctness of the parameters,\n",
    "#We use parameter values given in PDF file for remainder of Part 1 questions"
   ]
  },
  {
   "cell_type": "markdown",
   "id": "5f5885d9",
   "metadata": {},
   "source": [
    "## Question 3"
   ]
  },
  {
   "cell_type": "code",
   "execution_count": null,
   "id": "26417f2f",
   "metadata": {},
   "outputs": [],
   "source": [
    "#parameter values (given in  Assignment Instructions PDF file)\n",
    "mu, phi1, phi2, delta1, delta2, alpha1, alpha2, beta1, beta2, = (0.617,2.88,19.51,0.27,0.60,0.203,0.065,0.949,0.95)\n",
    "\n",
    "#Google and YT adstock\n",
    "T=len(marketing_data)\n",
    "gads   = np.zeros(T)\n",
    "yads   = np.zeros(T)\n",
    "gads[0]= 0\n",
    "yads[0]= 0\n",
    "\n",
    "g  = marketing_data.Google\n",
    "y  = marketing_data.YT\n",
    "\n",
    "for t in range(1,T):\n",
    "        gads[t] = beta1*gads[t-1] + alpha1*g[t]\n",
    "        yads[t] = beta2*yads[t-1] + alpha2*y[t]\n",
    "        \n",
    "\n",
    "plt.plot(gads, label='Google')\n",
    "plt.plot(yads, label='YT ')\n",
    "plt.legend()\n",
    "print('Adstocks for Google and YT')\n",
    "plt.show()\n",
    "\n"
   ]
  },
  {
   "cell_type": "markdown",
   "id": "88dcb774",
   "metadata": {},
   "source": [
    "## Question 4"
   ]
  },
  {
   "cell_type": "code",
   "execution_count": null,
   "id": "abdfa504",
   "metadata": {},
   "outputs": [],
   "source": [
    "\n"
   ]
  },
  {
   "cell_type": "markdown",
   "id": "a7f2f489",
   "metadata": {},
   "source": [
    "# Part 2:"
   ]
  },
  {
   "cell_type": "markdown",
   "id": "57d199b7",
   "metadata": {},
   "source": [
    "## Question 9"
   ]
  },
  {
   "cell_type": "code",
   "execution_count": 4,
   "id": "47d41a16",
   "metadata": {},
   "outputs": [],
   "source": [
    "import numpy as np                \n",
    "import scipy.stats as sts           \n",
    "import pandas as pd                 \n",
    "import matplotlib.pyplot as plt    \n",
    "import seaborn as sns  \n",
    "import math \n",
    "import scipy\n",
    "from sklearn.linear_model import LinearRegression\n",
    "from sklearn.metrics import r2_score, mean_squared_error\n",
    "import statsmodels.api as sm"
   ]
  },
  {
   "cell_type": "code",
   "execution_count": 6,
   "id": "157ecf2e",
   "metadata": {},
   "outputs": [
    {
     "data": {
      "text/html": [
       "<div>\n",
       "<style scoped>\n",
       "    .dataframe tbody tr th:only-of-type {\n",
       "        vertical-align: middle;\n",
       "    }\n",
       "\n",
       "    .dataframe tbody tr th {\n",
       "        vertical-align: top;\n",
       "    }\n",
       "\n",
       "    .dataframe thead th {\n",
       "        text-align: right;\n",
       "    }\n",
       "</style>\n",
       "<table border=\"1\" class=\"dataframe\">\n",
       "  <thead>\n",
       "    <tr style=\"text-align: right;\">\n",
       "      <th></th>\n",
       "      <th>s</th>\n",
       "      <th>p</th>\n",
       "      <th>m</th>\n",
       "      <th>c</th>\n",
       "    </tr>\n",
       "  </thead>\n",
       "  <tbody>\n",
       "    <tr>\n",
       "      <th>0</th>\n",
       "      <td>44001</td>\n",
       "      <td>400.27</td>\n",
       "      <td>166.67</td>\n",
       "      <td>350</td>\n",
       "    </tr>\n",
       "    <tr>\n",
       "      <th>1</th>\n",
       "      <td>44027</td>\n",
       "      <td>400.27</td>\n",
       "      <td>211.00</td>\n",
       "      <td>350</td>\n",
       "    </tr>\n",
       "    <tr>\n",
       "      <th>2</th>\n",
       "      <td>44015</td>\n",
       "      <td>400.27</td>\n",
       "      <td>407.00</td>\n",
       "      <td>350</td>\n",
       "    </tr>\n",
       "    <tr>\n",
       "      <th>3</th>\n",
       "      <td>44039</td>\n",
       "      <td>400.27</td>\n",
       "      <td>380.00</td>\n",
       "      <td>350</td>\n",
       "    </tr>\n",
       "    <tr>\n",
       "      <th>4</th>\n",
       "      <td>44017</td>\n",
       "      <td>400.27</td>\n",
       "      <td>375.00</td>\n",
       "      <td>350</td>\n",
       "    </tr>\n",
       "    <tr>\n",
       "      <th>...</th>\n",
       "      <td>...</td>\n",
       "      <td>...</td>\n",
       "      <td>...</td>\n",
       "      <td>...</td>\n",
       "    </tr>\n",
       "    <tr>\n",
       "      <th>754</th>\n",
       "      <td>44179</td>\n",
       "      <td>400.00</td>\n",
       "      <td>1386.00</td>\n",
       "      <td>315</td>\n",
       "    </tr>\n",
       "    <tr>\n",
       "      <th>755</th>\n",
       "      <td>44170</td>\n",
       "      <td>400.00</td>\n",
       "      <td>1940.00</td>\n",
       "      <td>315</td>\n",
       "    </tr>\n",
       "    <tr>\n",
       "      <th>756</th>\n",
       "      <td>44207</td>\n",
       "      <td>400.00</td>\n",
       "      <td>1650.00</td>\n",
       "      <td>322</td>\n",
       "    </tr>\n",
       "    <tr>\n",
       "      <th>757</th>\n",
       "      <td>44183</td>\n",
       "      <td>400.00</td>\n",
       "      <td>1426.00</td>\n",
       "      <td>322</td>\n",
       "    </tr>\n",
       "    <tr>\n",
       "      <th>758</th>\n",
       "      <td>44167</td>\n",
       "      <td>400.00</td>\n",
       "      <td>1425.00</td>\n",
       "      <td>322</td>\n",
       "    </tr>\n",
       "  </tbody>\n",
       "</table>\n",
       "<p>759 rows × 4 columns</p>\n",
       "</div>"
      ],
      "text/plain": [
       "         s       p        m    c\n",
       "0    44001  400.27   166.67  350\n",
       "1    44027  400.27   211.00  350\n",
       "2    44015  400.27   407.00  350\n",
       "3    44039  400.27   380.00  350\n",
       "4    44017  400.27   375.00  350\n",
       "..     ...     ...      ...  ...\n",
       "754  44179  400.00  1386.00  315\n",
       "755  44170  400.00  1940.00  315\n",
       "756  44207  400.00  1650.00  322\n",
       "757  44183  400.00  1426.00  322\n",
       "758  44167  400.00  1425.00  322\n",
       "\n",
       "[759 rows x 4 columns]"
      ]
     },
     "execution_count": 6,
     "metadata": {},
     "output_type": "execute_result"
    }
   ],
   "source": [
    "#Import the data\n",
    "pricing_data = pd.read_csv(\"pricing_data.csv\")\n",
    "pricing_data"
   ]
  },
  {
   "cell_type": "code",
   "execution_count": 7,
   "id": "58ad9dba",
   "metadata": {},
   "outputs": [
    {
     "data": {
      "image/png": "[encoded data removed]",
      "text/plain": [
       "<Figure size 1200x1200 with 4 Axes>"
      ]
     },
     "metadata": {},
     "output_type": "display_data"
    }
   ],
   "source": [
    "#Plot Sales, Price, Acquistion Costs, Marketing Expenditures\n",
    "pricing_data.plot(subplots=True, figsize=(12,12))\n",
    "plt.show()"
   ]
  },
  {
   "cell_type": "markdown",
   "id": "7d193d4f",
   "metadata": {},
   "source": [
    "## Question 10"
   ]
  },
  {
   "cell_type": "code",
   "execution_count": 14,
   "id": "9b72a07e",
   "metadata": {},
   "outputs": [
    {
     "name": "stdout",
     "output_type": "stream",
     "text": [
      "R-squared: 0.055613025696071516\n",
      "alpha: [43551.24566696]\n",
      "beta: [[1.44271762]]\n"
     ]
    }
   ],
   "source": [
    "#Regression of sales (S) on prices (P)\n",
    "p = pricing_data['p'].values.reshape(-1, 1)\n",
    "s = pricing_data['s'].values.reshape(-1, 1)\n",
    "\n",
    "reg = LinearRegression().fit(p, s)\n",
    "\n",
    "print(f\"R-squared: {reg.score(p, s)}\")\n",
    "print(f\"alpha: {reg.intercept_}\")\n",
    "print(f\"beta: {reg.coef_}\")\n"
   ]
  },
  {
   "cell_type": "markdown",
   "id": "522cfe92",
   "metadata": {},
   "source": [
    "## Question 13"
   ]
  },
  {
   "cell_type": "code",
   "execution_count": 11,
   "id": "cb3e769c",
   "metadata": {},
   "outputs": [
    {
     "name": "stdout",
     "output_type": "stream",
     "text": [
      "alpha: [365.38097181]\n",
      "beta: [[0.14240468]]\n"
     ]
    }
   ],
   "source": [
    "#First, regression of prices (P) on costs (c)\n",
    "c = pricing_data['c'].values.reshape(-1, 1)\n",
    "p = pricing_data['p'].values.reshape(-1, 1)\n",
    "\n",
    "reg2 = LinearRegression().fit(c, p)\n",
    "\n",
    "print(f\"alpha: {reg2.intercept_}\")\n",
    "print(f\"beta: {reg2.coef_}\")\n"
   ]
  },
  {
   "cell_type": "code",
   "execution_count": 12,
   "id": "ce6b8aff",
   "metadata": {},
   "outputs": [],
   "source": [
    "#Then, use coefficients to make p_hat\n",
    "T=len(pricing_data)\n",
    "p_hat   = np.zeros(T)\n",
    "\n",
    "for t in range(0,T):\n",
    "    p_hat[t] = reg2.intercept_ + reg2.coef_* pricing_data.c[t]"
   ]
  },
  {
   "cell_type": "code",
   "execution_count": 13,
   "id": "3d5a288c",
   "metadata": {},
   "outputs": [
    {
     "name": "stdout",
     "output_type": "stream",
     "text": [
      "R-squared: 0.38890250741986676\n",
      "alpha: 52000.35488645847\n",
      "beta: [-19.02861005]\n"
     ]
    }
   ],
   "source": [
    "#Now use p_hat instead of p as Question 10:\n",
    "\n",
    "#Regression of sales (S) on predicted_prices (p_hat)\n",
    "p_hat = p_hat.reshape(-1, 1)\n",
    "s = pricing_data['s'].values\n",
    "\n",
    "reg3 = LinearRegression().fit(p_hat, s)\n",
    "\n",
    "print(f\"R-squared: {reg3.score(p_hat, s)}\")\n",
    "print(f\"alpha: {reg3.intercept_}\")\n",
    "print(f\"beta: {reg3.coef_}\") "
   ]
  },
  {
   "cell_type": "markdown",
   "id": "7726820c",
   "metadata": {},
   "source": [
    "## Question 15"
   ]
  },
  {
   "cell_type": "code",
   "execution_count": null,
   "id": "d092bec0",
   "metadata": {},
   "outputs": [],
   "source": [
    "#Regression of sales (S) on predicted_prices (p_hat) & marketing expenditures (m)\n",
    "pricing_data['p_hat'] = p_hat\n",
    "x= pricing_data[['p_hat', 'm']]\n",
    "s = pricing_data['s']\n",
    "\n",
    "reg4 = LinearRegression()\n",
    "reg4.fit(x, s)\n",
    "\n",
    "print(f\"R-squared: {reg4.score(x, s)}\")\n",
    "print(f\"alpha: {reg4.intercept_}\")\n",
    "print(f\"beta: {reg4.coef_[0]}\") \n",
    "print(f\"psi: {reg4.coef_[1]}\")\n"
   ]
  },
  {
   "cell_type": "markdown",
   "id": "5a4bbef5",
   "metadata": {},
   "source": [
    "## Question 16"
   ]
  },
  {
   "cell_type": "code",
   "execution_count": null,
   "id": "b3824d87",
   "metadata": {},
   "outputs": [],
   "source": [
    "T=len(pricing_data)\n",
    "alpha = reg4.intercept_\n",
    "beta  = reg4.coef_[0]\n",
    "psi   = reg4.coef_[1]\n",
    "\n",
    "p = pricing_data['p']\n",
    "m = pricing_data['m']\n",
    "c = pricing_data['c']\n",
    "\n",
    "exp_profit = np.zeros(T)\n",
    "\n",
    "for t in range(0,T):\n",
    "    exp_profit[t] = (alpha + beta*p[t] + psi*m[t]) * (p[t]-c[t])"
   ]
  },
  {
   "cell_type": "code",
   "execution_count": null,
   "id": "39ff4e47",
   "metadata": {},
   "outputs": [],
   "source": [
    "#Lets take the profit at the last observed values in the sample. \n",
    "print(f'profit before increasing the price :  {exp_profit[T-1]}')\n",
    "\n",
    "#If we now increase the price by one unit:\n",
    "t=T-1\n",
    "print(f'profit after increasing the price  :  {(alpha + beta*(p[t]+1) + psi*m[t]) * ((p[t]+1)-c[t])}')\n",
    "\n",
    "\n",
    "#As profits go up by increasing the price with one unit, we advise to increase the price."
   ]
  },
  {
   "cell_type": "code",
   "execution_count": null,
   "id": "db289b08",
   "metadata": {},
   "outputs": [],
   "source": []
  }
 ],
 "metadata": {
  "kernelspec": {
   "display_name": "Python 3 (ipykernel)",
   "language": "python",
   "name": "python3"
  },
  "language_info": {
   "codemirror_mode": {
    "name": "ipython",
    "version": 3
   },
   "file_extension": ".py",
   "mimetype": "text/x-python",
   "name": "python",
   "nbconvert_exporter": "python",
   "pygments_lexer": "ipython3",
   "version": "3.8.13"
  }
 },
 "nbformat": 4,
 "nbformat_minor": 5
}
