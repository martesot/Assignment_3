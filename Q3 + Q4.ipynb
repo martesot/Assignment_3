{
 "cells": [
  {
   "cell_type": "code",
   "execution_count": null,
   "id": "cbd4ec1c",
   "metadata": {},
   "outputs": [],
   "source": [
    "import numpy as np                  # Numpy is used for all kinds of mathematical stuff, especially related to matrices\n",
    "import scipy.stats as sts           # SciPy is built specifically for statistical computing\n",
    "import pandas as pd                 # Pandas is for reading in files and using dataframes\n",
    "import matplotlib.pyplot as plt     # This package is used for the plotting framework, and can be used standalone\n",
    "import seaborn as sns  # I use this package for nicer plots than the standard matplotlib plots\n",
    "import math \n",
    "import scipy"
   ]
  },
  {
   "cell_type": "code",
   "execution_count": null,
   "id": "72307901",
   "metadata": {},
   "outputs": [],
   "source": [
    "#Import the data\n",
    "raw_data = pd.read_csv(\"Assignment3_dataset.csv\")"
   ]
  },
  {
   "cell_type": "markdown",
   "id": "58822753",
   "metadata": {},
   "source": [
    "#### Transformation of data"
   ]
  },
  {
   "cell_type": "code",
   "execution_count": null,
   "id": "8c5dfee6",
   "metadata": {},
   "outputs": [],
   "source": [
    "#Transform the returns by subtracting sample mean and then multipying by 100.\n",
    "for stock_name in raw_data.TICKER.unique():\n",
    "    raw_data.loc[raw_data.TICKER == stock_name,'RET'] = (raw_data.RET - np.mean(raw_data.RET[raw_data.TICKER == stock_name]))*100\n",
    "#checked whether transformation was done correctly by doing the calculation by hand for first obs. of every stock.\n",
    "\n"
   ]
  },
  {
   "cell_type": "markdown",
   "id": "ce9ac18c",
   "metadata": {},
   "source": [
    "## Question 3"
   ]
  },
  {
   "cell_type": "markdown",
   "id": "746d5e84",
   "metadata": {},
   "source": [
    "### Likelihood functions for both no leverage and leverage models"
   ]
  },
  {
   "cell_type": "code",
   "execution_count": null,
   "id": "170e0da9",
   "metadata": {},
   "outputs": [],
   "source": [
    "#llik function no leverage \n",
    "def llik_fun_GARCH_no_lev(theta,stock_name):\n",
    "    x = stock_name.RET.iloc[0:2500]\n",
    "    T=len(x);\n",
    "    omega=theta[0]\n",
    "    alpha=theta[1]\n",
    "    beta=theta[2]\n",
    "    lambda1=theta[3]\n",
    "\n",
    "    # Filter Volatility\n",
    "    sigma2 = np.zeros(T)\n",
    "    sigma2[0] = np.var(stock_name.RET.iloc[0:50]); #initialize volatility\n",
    "\n",
    "    for t in range(0,T-1):\n",
    "        sigma2[t+1] = omega + (alpha*(x[t]**2))/(1+((x[t]**2)/(lambda1*sigma2[t]))) + beta*sigma2[t]\n",
    " \n",
    "    \n",
    "    llik =math.lgamma((lambda1 + 1)/2) - math.lgamma(lambda1/2) - 1/2*np.log(lambda1) - 1/2*np.log(np.pi) - (lambda1 + 1)/2 * np.log(1+(((x/(sigma2**0.5))**2)/lambda1)) -1/2*np.log(sigma2)\n",
    "\n",
    "    \n",
    "    return -np.mean(llik)"
   ]
  },
  {
   "cell_type": "code",
   "execution_count": null,
   "id": "0f5b291f",
   "metadata": {},
   "outputs": [],
   "source": [
    "#llik function with leverage \n",
    "def llik_fun_GARCH_w_lev(theta,stock_name):\n",
    "    x = stock_name.RET.iloc[0:2500]\n",
    "    T=len(x);\n",
    "    omega=theta[0]\n",
    "    alpha=theta[1]\n",
    "    beta=theta[2]\n",
    "    delta=theta[3]\n",
    "    lambda1=theta[4]\n",
    "\n",
    "    # Filter Volatility\n",
    "    sigma2 = np.zeros(T)\n",
    "    sigma2[0] = np.var(stock_name.RET.iloc[0:50]); #initialize volatility\n",
    "\n",
    "    for t in range(0,T-1):\n",
    "        if x[t] < 0:\n",
    "            sigma2[t+1] = omega + ((alpha*(x[t]**2))+(delta*(x[t]**2)))/(1+((x[t]**2)/(lambda1*sigma2[t]))) + beta*sigma2[t]\n",
    "        else:\n",
    "            sigma2[t+1] = omega + (alpha*(x[t]**2))/(1+((x[t]**2)/(lambda1*sigma2[t]))) + beta*sigma2[t]\n",
    "    \n",
    "  \n",
    "    llik =math.lgamma((lambda1 + 1)/2) - math.lgamma(lambda1/2) - 1/2*np.log(lambda1) - 1/2*np.log(np.pi) - (lambda1 + 1)/2 * np.log(1+(((x/(sigma2**0.5))**2)/lambda1)) -1/2*np.log(sigma2)\n",
    "\n",
    "\n",
    "    return -np.mean(llik)"
   ]
  },
  {
   "cell_type": "code",
   "execution_count": null,
   "id": "6ad29cc2",
   "metadata": {},
   "outputs": [],
   "source": [
    "#TEST LLIK FUNCTION NO LEVERAGE TO COMPARE WITH KO RESULTS IN PDF.\n",
    "KO = raw_data.RET[raw_data.TICKER == 'KO'].reset_index()\n",
    "KO = KO.drop(columns='index')\n",
    "\n",
    "#par values (copied from PDF)\n",
    "omega_TEST1   = 0.005665683\n",
    "alpha_TEST1   = 0.09922153 \n",
    "beta_TEST1    = 0.91055318 \n",
    "lambda1_TEST1 = 5.5415955    \n",
    "theta_TEST1 = np.array([omega_TEST1,\n",
    "                       alpha_TEST1,\n",
    "                       beta_TEST1,\n",
    "                       lambda1_TEST1])\n",
    "\n",
    "#apply function given the values and KO\n",
    "llik_fun_GARCH_no_lev(theta_TEST1,KO)*-2500 #because -np.mean(LLIK) is returned"
   ]
  },
  {
   "cell_type": "code",
   "execution_count": null,
   "id": "876363a4",
   "metadata": {},
   "outputs": [],
   "source": [
    "#TEST LLIK FUNCTION WITH LEVERAGE TO COMPARE WITH KO RESULTS IN PDF.\n",
    "KO = raw_data.RET[raw_data.TICKER == 'KO'].reset_index()\n",
    "KO = KO.drop(columns='index')\n",
    "\n",
    "#par values (copied from PDF)\n",
    "omega_TEST2   = 0.007442577\n",
    "alpha_TEST2   = 0.02670845\n",
    "beta_TEST2    = 0.9217446\n",
    "delta_TEST2   = 0.11266453\n",
    "lambda1_TEST2 = 6.056328\n",
    "theta_TEST2 = np.array([omega_TEST2,\n",
    "                       alpha_TEST2,\n",
    "                       beta_TEST2,\n",
    "                       delta_TEST2,\n",
    "                       lambda1_TEST2])\n",
    "\n",
    "#apply function given the values and KO\n",
    "llik_fun_GARCH_w_lev(theta_TEST2,KO)*-2500 #because -np.mean(LLIK) is returned"
   ]
  },
  {
   "cell_type": "markdown",
   "id": "7cc37e59",
   "metadata": {},
   "source": [
    "### Maximizing functions"
   ]
  },
  {
   "cell_type": "code",
   "execution_count": null,
   "id": "a37f82c5",
   "metadata": {},
   "outputs": [],
   "source": [
    "#First,  create data frames to store the results of optimization\n",
    "parameters_no_lev = pd.DataFrame(columns=['KO', 'PFE', 'JNJ', 'MRK'])\n",
    "parameters_w_lev  = pd.DataFrame(columns=['KO', 'PFE', 'JNJ', 'MRK'])"
   ]
  },
  {
   "cell_type": "code",
   "execution_count": null,
   "id": "7140a52d",
   "metadata": {},
   "outputs": [],
   "source": [
    "#For model without leverage:\n",
    "for stock_name in raw_data.TICKER.unique():\n",
    "    dataframe_stock_name = pd.DataFrame(raw_data.RET[raw_data.TICKER == stock_name].reset_index())\n",
    "    \n",
    "    \n",
    "    #list initial parameter values for the optimization and store them in vector\n",
    "    omega_ini1   = np.var(dataframe_stock_name.RET.iloc[0:2500])/50\n",
    "    alpha_ini1   = 0.02 \n",
    "    beta_ini1    = 0.96 \n",
    "    lambda1_ini1 = 5    \n",
    "    theta_ini1 = np.array([omega_ini1,\n",
    "                       alpha_ini1,\n",
    "                       beta_ini1,\n",
    "                       lambda1_ini1])\n",
    "    \n",
    "    #now, optimize llik function. \n",
    "    results = scipy.optimize.minimize(llik_fun_GARCH, theta_ini1, args=(dataframe_stock_name), method='BFGS')\n",
    "  \n",
    "    print(f'Results for {stock_name}:')\n",
    "    print(f'')\n",
    "    print(f'parameter estimates {stock_name}:')\n",
    "    print(f\"omega  : {results.x[0]}\")\n",
    "    print(f\"alpha  : {results.x[1]}\")\n",
    "    print(f\"beta   : {results.x[2]}\")\n",
    "    print(f\"lambda : {results.x[3]}\")\n",
    "    \n",
    "    print(f'')\n",
    "    \n",
    "    print(f'log likelihood value {stock_name}:')\n",
    "    print(results.fun*-2500)\n",
    "    print('AIC') \n",
    "    print(2*len(theta_ini1)-2*(results.fun*2500))\n",
    "    print('BIC')\n",
    "    print(len(theta_ini1)*np.log(2500)-2*(results.fun*2500))\n",
    "    print('exit flag:')\n",
    "    print(results.success)\n",
    "    print('message:')\n",
    "    print(results.message)\n",
    "   \n",
    "    print(f'')\n",
    "    print(f'')\n",
    "    \n",
    "    #store parameter values in just created dataframe\n",
    "    parameters_no_lev[stock_name] = results.x"
   ]
  },
  {
   "cell_type": "code",
   "execution_count": null,
   "id": "133ef670",
   "metadata": {},
   "outputs": [],
   "source": [
    "#For model with leverage:\n",
    "for stock_name in raw_data.TICKER.unique():\n",
    "    dataframe_stock_name = pd.DataFrame(raw_data.RET[raw_data.TICKER == stock_name].reset_index())\n",
    "    \n",
    "    #initial parameter values for models with leverage \n",
    "    omega_ini2   = np.var(dataframe_stock_name.RET.iloc[0:2500])/50 \n",
    "    alpha_ini2   = 0.02 \n",
    "    beta_ini2    = 0.96 \n",
    "    delta_ini2   = 0\n",
    "    lambda1_ini2 = 5    \n",
    "    theta_ini2 = np.array([omega_ini2,\n",
    "                       alpha_ini2,\n",
    "                       beta_ini2,\n",
    "                       delta_ini2,\n",
    "                       lambda1_ini2])\n",
    "    \n",
    "    #now, optimize llik function. \n",
    "    results2 = scipy.optimize.minimize(llik_fun_GARCH_w_lev, theta_ini2, args=(dataframe_stock_name), method='BFGS')\n",
    "  \n",
    "    print(f'Results for {stock_name}:')\n",
    "    print(f'')\n",
    "    print(f'parameter estimates {stock_name}:')\n",
    "    print(f\"omega  : {results2.x[0]}\")\n",
    "    print(f\"alpha  : {results2.x[1]}\")\n",
    "    print(f\"beta   : {results2.x[2]}\")\n",
    "    print(f\"delta  : {results2.x[3]}\")\n",
    "    print(f\"lambda  : {results2.x[4]}\")\n",
    "    \n",
    "    print(f'')\n",
    "    \n",
    "    print(f'log likelihood value {stock_name}:')\n",
    "    print(results.fun*-2500)\n",
    "    print(2*len(theta_ini2)-2*(results2.fun*2500))\n",
    "    print('BIC')\n",
    "    print(len(theta_ini2)*np.log(2500)-2*(results2.fun*2500))\n",
    "    print('exit flag:')\n",
    "    print(results.success)\n",
    "    print(f'')\n",
    "    print(f'')\n",
    "    \n",
    "    #store parameter values in just created dataframe\n",
    "    parameters_w_lev[stock_name] = results2.x"
   ]
  },
  {
   "cell_type": "code",
   "execution_count": null,
   "id": "1637b87c",
   "metadata": {},
   "outputs": [],
   "source": [
    "parameters_no_lev"
   ]
  },
  {
   "cell_type": "code",
   "execution_count": null,
   "id": "8aeb9ff0",
   "metadata": {},
   "outputs": [],
   "source": [
    "parameters_w_lev"
   ]
  },
  {
   "cell_type": "markdown",
   "id": "83ace39b",
   "metadata": {},
   "source": [
    "## Question 4"
   ]
  },
  {
   "cell_type": "code",
   "execution_count": null,
   "id": "42be2b07",
   "metadata": {},
   "outputs": [],
   "source": [
    "vol_no_lev   = pd.DataFrame(columns=['KO', 'PFE', 'JNJ', 'MRK'])\n",
    "vol_with_lev = pd.DataFrame(columns=['KO', 'PFE', 'JNJ', 'MRK'])"
   ]
  },
  {
   "cell_type": "code",
   "execution_count": null,
   "id": "d8535c63",
   "metadata": {},
   "outputs": [],
   "source": [
    "#Filtered volatilities for model without leverage\n",
    "for stock_name in raw_data.TICKER.unique():\n",
    "    dataframe_stock_name = pd.DataFrame(raw_data.RET[raw_data.TICKER == stock_name].reset_index())\n",
    "    \n",
    "    x = dataframe_stock_name.RET\n",
    "    T= len(x)\n",
    "    omega   =   parameters_no_lev[stock_name].loc[0]\n",
    "    alpha   =   parameters_no_lev[stock_name].loc[1]\n",
    "    beta    =   parameters_no_lev[stock_name].loc[2]\n",
    "    lambda1 =   parameters_no_lev[stock_name].loc[3]\n",
    "\n",
    "\n",
    "    sigma2 = np.zeros(T)\n",
    "    sigma2[0] = np.var(dataframe_stock_name.RET.iloc[0:50]); #initialize volatility\n",
    "    \n",
    "\n",
    "    for t in range(0,T-1):\n",
    "        sigma2[t+1] =  omega + (alpha*(x[t]**2))/(1+((x[t]**2)/(lambda1*sigma2[t]))) + beta*sigma2[t]\n",
    "    \n",
    "    vol_no_lev[stock_name] = sigma2\n",
    "\n",
    "    plt.figure()\n",
    "    plt.plot(sigma2)\n",
    "    print(stock_name)\n",
    "    # Show/save figure as desired.\n",
    "    plt.show()"
   ]
  },
  {
   "cell_type": "code",
   "execution_count": null,
   "id": "87e214b3",
   "metadata": {},
   "outputs": [],
   "source": []
  }
 ],
 "metadata": {
  "kernelspec": {
   "display_name": "Python 3 (ipykernel)",
   "language": "python",
   "name": "python3"
  },
  "language_info": {
   "codemirror_mode": {
    "name": "ipython",
    "version": 3
   },
   "file_extension": ".py",
   "mimetype": "text/x-python",
   "name": "python",
   "nbconvert_exporter": "python",
   "pygments_lexer": "ipython3",
   "version": "3.9.12"
  }
 },
 "nbformat": 4,
 "nbformat_minor": 5
}
