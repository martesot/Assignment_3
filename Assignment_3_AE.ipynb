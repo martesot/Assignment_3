{
 "cells": [
  {
   "cell_type": "markdown",
   "id": "7c92625b",
   "metadata": {},
   "source": [
    "# Assignment 3 AE\n"
   ]
  },
  {
   "cell_type": "markdown",
   "id": "bf243a30",
   "metadata": {},
   "source": [
    "## Code"
   ]
  },
  {
   "cell_type": "code",
   "execution_count": 1,
   "id": "adcbcdd3",
   "metadata": {},
   "outputs": [],
   "source": [
    "import numpy as np                  # Numpy is used for all kinds of mathematical stuff, especially related to matrices\n",
    "import scipy.stats as sts           # SciPy is built specifically for statistical computing\n",
    "import pandas as pd                 # Pandas is for reading in files and using dataframes\n",
    "import matplotlib.pyplot as plt     # This package is used for the plotting framework, and can be used standalone\n",
    "import seaborn as sns               # I use this package for nicer plots than the standard matplotlib plots"
   ]
  },
  {
   "cell_type": "code",
   "execution_count": 2,
   "id": "57b63227",
   "metadata": {},
   "outputs": [],
   "source": [
    "#Import the data\n",
    "raw_data = pd.read_csv(\"Assignment3_dataset.csv\")"
   ]
  },
  {
   "cell_type": "markdown",
   "id": "9dba9981",
   "metadata": {},
   "source": [
    "#### Inspection of raw data"
   ]
  },
  {
   "cell_type": "code",
   "execution_count": null,
   "id": "b18362f7",
   "metadata": {},
   "outputs": [],
   "source": [
    "raw_data.head() #first five rows"
   ]
  },
  {
   "cell_type": "code",
   "execution_count": null,
   "id": "62973d46",
   "metadata": {},
   "outputs": [],
   "source": [
    "raw_data.tail(3) #last three rows\n"
   ]
  },
  {
   "cell_type": "code",
   "execution_count": null,
   "id": "2f0d5f46",
   "metadata": {},
   "outputs": [],
   "source": [
    "print(type(raw_data)) "
   ]
  },
  {
   "cell_type": "code",
   "execution_count": null,
   "id": "0353ba56",
   "metadata": {},
   "outputs": [],
   "source": [
    "raw_data.shape #number of rows and columns\n"
   ]
  },
  {
   "cell_type": "code",
   "execution_count": null,
   "id": "9f2b99cb",
   "metadata": {},
   "outputs": [],
   "source": [
    "raw_data.columns #column names\n"
   ]
  },
  {
   "cell_type": "code",
   "execution_count": null,
   "id": "47c89502",
   "metadata": {},
   "outputs": [],
   "source": [
    "raw_data.dtypes #data type of each column"
   ]
  },
  {
   "cell_type": "code",
   "execution_count": null,
   "id": "2773e12b",
   "metadata": {},
   "outputs": [],
   "source": [
    "print(raw_data.info()) #info of data seperated by column"
   ]
  },
  {
   "cell_type": "markdown",
   "id": "58822753",
   "metadata": {},
   "source": [
    "#### Transformation of data"
   ]
  },
  {
   "cell_type": "code",
   "execution_count": 3,
   "id": "3efb74c4",
   "metadata": {},
   "outputs": [
    {
     "name": "stdout",
     "output_type": "stream",
     "text": [
      "This is the mean return for stock KO: 0.000312\n",
      "This is the mean return for stock PFE: 0.000313\n",
      "This is the mean return for stock JNJ: 0.000395\n",
      "This is the mean return for stock MRK: 0.000261\n"
     ]
    }
   ],
   "source": [
    "#Obtain the mean returns for every stock:\n",
    "for stock_name in raw_data.TICKER.unique():\n",
    "    mean = np.mean(raw_data.RET[raw_data.TICKER == stock_name])  #mean for column RET\n",
    "    print(f\"This is the mean return for stock {stock_name}: {mean:.6f}\") #print mean for every key"
   ]
  },
  {
   "cell_type": "code",
   "execution_count": 4,
   "id": "1b14c98e",
   "metadata": {},
   "outputs": [],
   "source": [
    "#Transform the returns by subtracting sample mean and then multipying by 100.\n",
    "for stock_name in raw_data.TICKER.unique():\n",
    "    raw_data.loc[raw_data.TICKER == stock_name,'RET'] = (raw_data.RET - np.mean(raw_data.RET[raw_data.TICKER == stock_name]))*100\n",
    "#checked whether transformation was done correctly by doing the calculation by hand for first obs. of every stock."
   ]
  },
  {
   "cell_type": "code",
   "execution_count": 5,
   "id": "73fb441a",
   "metadata": {},
   "outputs": [
    {
     "name": "stdout",
     "output_type": "stream",
     "text": [
      "dict_keys(['KO', 'PFE', 'JNJ', 'MRK'])\n",
      "dict_values([      PERMNO        date TICKER       RET\n",
      "0      11308  2001/01/02     KO -0.236302\n",
      "1      11308  2001/01/03     KO -2.600602\n",
      "2      11308  2001/01/04     KO -2.879302\n",
      "3      11308  2001/01/05     KO  0.185998\n",
      "4      11308  2001/01/08     KO  1.593898\n",
      "...      ...         ...    ...       ...\n",
      "5279   11308  2021/12/27     KO  0.707398\n",
      "5280   11308  2021/12/28     KO  0.360998\n",
      "5281   11308  2021/12/29     KO  0.087698\n",
      "5282   11308  2021/12/30     KO -0.319602\n",
      "5283   11308  2021/12/31     KO  0.700298\n",
      "\n",
      "[5284 rows x 4 columns],        PERMNO        date TICKER       RET\n",
      "5284    21936  2001/01/02    PFE  0.240411\n",
      "5285    21936  2001/01/03    PFE -5.586889\n",
      "5286    21936  2001/01/04    PFE -4.048489\n",
      "5287    21936  2001/01/05    PFE  1.314011\n",
      "5288    21936  2001/01/08    PFE -1.211189\n",
      "...       ...         ...    ...       ...\n",
      "10563   21936  2021/12/27    PFE  0.803311\n",
      "10564   21936  2021/12/28    PFE -2.041389\n",
      "10565   21936  2021/12/29    PFE -0.772489\n",
      "10566   21936  2021/12/30    PFE  1.392811\n",
      "10567   21936  2021/12/31    PFE  1.081711\n",
      "\n",
      "[5284 rows x 4 columns],        PERMNO        date TICKER       RET\n",
      "10568   22111  2001/01/02    JNJ -2.954432\n",
      "10569   22111  2001/01/03    JNJ -3.225832\n",
      "10570   22111  2001/01/04    JNJ -2.191432\n",
      "10571   22111  2001/01/05    JNJ  1.254168\n",
      "10572   22111  2001/01/08    JNJ -0.167232\n",
      "...       ...         ...    ...       ...\n",
      "15847   22111  2021/12/27    JNJ  0.804468\n",
      "15848   22111  2021/12/28    JNJ  0.361268\n",
      "15849   22111  2021/12/29    JNJ  0.664868\n",
      "15850   22111  2021/12/30    JNJ  0.403468\n",
      "15851   22111  2021/12/31    JNJ -0.759132\n",
      "\n",
      "[5284 rows x 4 columns],        PERMNO        date TICKER      RET\n",
      "15852   22752  2001/01/02    MRK -0.69368\n",
      "15853   22752  2001/01/03    MRK -4.19278\n",
      "15854   22752  2001/01/04    MRK -4.65438\n",
      "15855   22752  2001/01/05    MRK -2.01138\n",
      "15856   22752  2001/01/08    MRK  0.19902\n",
      "...       ...         ...    ...      ...\n",
      "21131   22752  2021/12/27    MRK  1.08312\n",
      "21132   22752  2021/12/28    MRK  0.28732\n",
      "21133   22752  2021/12/29    MRK  0.15622\n",
      "21134   22752  2021/12/30    MRK  0.22082\n",
      "21135   22752  2021/12/31    MRK -0.67428\n",
      "\n",
      "[5284 rows x 4 columns]])\n"
     ]
    }
   ],
   "source": [
    "#Create dictionary to seperate data for each stock:\n",
    "data_dict = {stock: raw_data[raw_data.TICKER == stock] for stock in raw_data.TICKER.unique()} \n",
    "print(data_dict.keys())    # stock names\n",
    "print(data_dict.values())  # output of data for that stock name"
   ]
  },
  {
   "cell_type": "code",
   "execution_count": 6,
   "id": "e312befb",
   "metadata": {},
   "outputs": [
    {
     "name": "stdout",
     "output_type": "stream",
     "text": [
      "This is the mean return for stock KO: 0.000000\n",
      "This is the mean return for stock PFE: 0.000000\n",
      "This is the mean return for stock JNJ: -0.000000\n",
      "This is the mean return for stock MRK: -0.000000\n"
     ]
    }
   ],
   "source": [
    "#Obtain the transformed mean returns for every stock:\n",
    "for stock_name, stock_data in data_dict.items():  #iterate trough keys and values at once\n",
    "    mean = np.mean(stock_data.RET)  #mean for column RET\n",
    "    print(f\"This is the mean return for stock {stock_name}: {mean:.6f}\") #print mean for every key\n",
    "    #correct that it is zero because it is standardized around mean: so \"on average zero deviation from mean\"."
   ]
  },
  {
   "cell_type": "markdown",
   "id": "1425aa69",
   "metadata": {},
   "source": [
    "## Question 1"
   ]
  },
  {
   "cell_type": "code",
   "execution_count": null,
   "id": "75fec683",
   "metadata": {},
   "outputs": [],
   "source": [
    "#We are asked to plot news-impact curve of the \"Robust-GARCH-with-Leverage-Effect\" model \n",
    "#Should be done for different values of λ =(2, 5, 10, 50) and δ =(0, 1, 0.2, 0.4)\n",
    "#Also, certain parameter values are given: σ^2(t-1) = 1, ω=0, α=0.05 and β=0.9  \n",
    "\n",
    "#Estimate sigma_t^2 for t = 1:n\n"
   ]
  },
  {
   "cell_type": "markdown",
   "id": "03a06e66",
   "metadata": {},
   "source": [
    "       \n",
    "\n",
    "    "
   ]
  },
  {
   "cell_type": "code",
   "execution_count": null,
   "id": "59311db1",
   "metadata": {},
   "outputs": [],
   "source": []
  }
 ],
 "metadata": {
  "kernelspec": {
   "display_name": "Python 3 (ipykernel)",
   "language": "python",
   "name": "python3"
  },
  "language_info": {
   "codemirror_mode": {
    "name": "ipython",
    "version": 3
   },
   "file_extension": ".py",
   "mimetype": "text/x-python",
   "name": "python",
   "nbconvert_exporter": "python",
   "pygments_lexer": "ipython3",
   "version": "3.9.12"
  }
 },
 "nbformat": 4,
 "nbformat_minor": 5
}
