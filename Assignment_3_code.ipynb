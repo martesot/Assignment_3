{
 "cells": [
  {
   "cell_type": "markdown",
   "metadata": {},
   "source": [
    "**Assignment III - Advanced Econometrics**\n",
    "2022-2023\n"
   ]
  },
  {
   "cell_type": "markdown",
   "metadata": {},
   "source": [
    "Sven van Zoelen, Marte Ottesen, Jan Koolbergen"
   ]
  },
  {
   "cell_type": "code",
   "execution_count": 56,
   "metadata": {},
   "outputs": [],
   "source": [
    "### First we import the packages that we are going to use:\n",
    "# You have to run this cell before any other, as they otherwise won't work\n",
    "# If you get an error, the package is probably not installed\n",
    "# You can then run 'conda install <package_name>' from the anaconda integrated terminal\n",
    "# All these packages should be installed by default though\n",
    "\n",
    "import numpy as np                  # Numpy is used for all kinds of mathematical stuff, especially related to matrices\n",
    "import scipy.stats as sts           # SciPy is built specifically for statistical computing\n",
    "import pandas as pd                 # Pandas is for reading in files and using dataframes\n",
    "import matplotlib.pyplot as plt     # This package is used for the plotting framework, and can be used standalone\n",
    "import seaborn as sns               # I use this package for nicer plots than the standard matplotlib plots"
   ]
  },
  {
   "cell_type": "code",
   "execution_count": 40,
   "metadata": {},
   "outputs": [
    {
     "data": {
      "text/html": [
       "<div>\n",
       "<style scoped>\n",
       "    .dataframe tbody tr th:only-of-type {\n",
       "        vertical-align: middle;\n",
       "    }\n",
       "\n",
       "    .dataframe tbody tr th {\n",
       "        vertical-align: top;\n",
       "    }\n",
       "\n",
       "    .dataframe thead th {\n",
       "        text-align: right;\n",
       "    }\n",
       "</style>\n",
       "<table border=\"1\" class=\"dataframe\">\n",
       "  <thead>\n",
       "    <tr style=\"text-align: right;\">\n",
       "      <th></th>\n",
       "      <th>PERMNO</th>\n",
       "      <th>date</th>\n",
       "      <th>TICKER</th>\n",
       "      <th>RET</th>\n",
       "    </tr>\n",
       "  </thead>\n",
       "  <tbody>\n",
       "    <tr>\n",
       "      <th>0</th>\n",
       "      <td>11308</td>\n",
       "      <td>2001/01/02</td>\n",
       "      <td>KO</td>\n",
       "      <td>-0.002051</td>\n",
       "    </tr>\n",
       "    <tr>\n",
       "      <th>1</th>\n",
       "      <td>11308</td>\n",
       "      <td>2001/01/03</td>\n",
       "      <td>KO</td>\n",
       "      <td>-0.025694</td>\n",
       "    </tr>\n",
       "    <tr>\n",
       "      <th>2</th>\n",
       "      <td>11308</td>\n",
       "      <td>2001/01/04</td>\n",
       "      <td>KO</td>\n",
       "      <td>-0.028481</td>\n",
       "    </tr>\n",
       "    <tr>\n",
       "      <th>3</th>\n",
       "      <td>11308</td>\n",
       "      <td>2001/01/05</td>\n",
       "      <td>KO</td>\n",
       "      <td>0.002172</td>\n",
       "    </tr>\n",
       "    <tr>\n",
       "      <th>4</th>\n",
       "      <td>11308</td>\n",
       "      <td>2001/01/08</td>\n",
       "      <td>KO</td>\n",
       "      <td>0.016251</td>\n",
       "    </tr>\n",
       "    <tr>\n",
       "      <th>...</th>\n",
       "      <td>...</td>\n",
       "      <td>...</td>\n",
       "      <td>...</td>\n",
       "      <td>...</td>\n",
       "    </tr>\n",
       "    <tr>\n",
       "      <th>21131</th>\n",
       "      <td>22752</td>\n",
       "      <td>2021/12/27</td>\n",
       "      <td>MRK</td>\n",
       "      <td>0.011092</td>\n",
       "    </tr>\n",
       "    <tr>\n",
       "      <th>21132</th>\n",
       "      <td>22752</td>\n",
       "      <td>2021/12/28</td>\n",
       "      <td>MRK</td>\n",
       "      <td>0.003134</td>\n",
       "    </tr>\n",
       "    <tr>\n",
       "      <th>21133</th>\n",
       "      <td>22752</td>\n",
       "      <td>2021/12/29</td>\n",
       "      <td>MRK</td>\n",
       "      <td>0.001823</td>\n",
       "    </tr>\n",
       "    <tr>\n",
       "      <th>21134</th>\n",
       "      <td>22752</td>\n",
       "      <td>2021/12/30</td>\n",
       "      <td>MRK</td>\n",
       "      <td>0.002469</td>\n",
       "    </tr>\n",
       "    <tr>\n",
       "      <th>21135</th>\n",
       "      <td>22752</td>\n",
       "      <td>2021/12/31</td>\n",
       "      <td>MRK</td>\n",
       "      <td>-0.006482</td>\n",
       "    </tr>\n",
       "  </tbody>\n",
       "</table>\n",
       "<p>21136 rows × 4 columns</p>\n",
       "</div>"
      ],
      "text/plain": [
       "       PERMNO        date TICKER       RET\n",
       "0       11308  2001/01/02     KO -0.002051\n",
       "1       11308  2001/01/03     KO -0.025694\n",
       "2       11308  2001/01/04     KO -0.028481\n",
       "3       11308  2001/01/05     KO  0.002172\n",
       "4       11308  2001/01/08     KO  0.016251\n",
       "...       ...         ...    ...       ...\n",
       "21131   22752  2021/12/27    MRK  0.011092\n",
       "21132   22752  2021/12/28    MRK  0.003134\n",
       "21133   22752  2021/12/29    MRK  0.001823\n",
       "21134   22752  2021/12/30    MRK  0.002469\n",
       "21135   22752  2021/12/31    MRK -0.006482\n",
       "\n",
       "[21136 rows x 4 columns]"
      ]
     },
     "execution_count": 40,
     "metadata": {},
     "output_type": "execute_result"
    }
   ],
   "source": [
    "### First of all we read the data into a dataframe\n",
    "raw_data = pd.read_csv(\"Assignment3_dataset.csv\")\n",
    "\n",
    "# Print the dataframe for a visual inspection\n",
    "raw_data"
   ]
  },
  {
   "cell_type": "code",
   "execution_count": 52,
   "metadata": {},
   "outputs": [
    {
     "name": "stdout",
     "output_type": "stream",
     "text": [
      "       PERMNO        date TICKER       RET\n",
      "10568   22111  2001/01/02    JNJ -0.029149\n",
      "10569   22111  2001/01/03    JNJ -0.031863\n",
      "10570   22111  2001/01/04    JNJ -0.021519\n",
      "10571   22111  2001/01/05    JNJ  0.012937\n",
      "10572   22111  2001/01/08    JNJ -0.001277\n",
      "...       ...         ...    ...       ...\n",
      "15847   22111  2021/12/27    JNJ  0.008440\n",
      "15848   22111  2021/12/28    JNJ  0.004008\n",
      "15849   22111  2021/12/29    JNJ  0.007044\n",
      "15850   22111  2021/12/30    JNJ  0.004430\n",
      "15851   22111  2021/12/31    JNJ -0.007196\n",
      "\n",
      "[5284 rows x 4 columns]\n",
      "This is the mean return for stock KO: 0.000312\n",
      "This is the mean return for stock PFE: 0.000313\n",
      "This is the mean return for stock JNJ: 0.000395\n",
      "This is the mean return for stock MRK: 0.000261\n",
      "\n",
      "This is the mean return for stock KO: 0.000312\n",
      "This is the mean return for stock PFE: 0.000313\n",
      "This is the mean return for stock JNJ: 0.000395\n",
      "This is the mean return for stock MRK: 0.000261\n"
     ]
    }
   ],
   "source": [
    "### Now we want to divide the dataframe into seperate dataframes for each stock\n",
    "# In order to not have to hardcode the ticker values, I use a dictionary comprehension:\n",
    "data_dict = {stock: raw_data[raw_data.TICKER == stock] for stock in raw_data.TICKER.unique()}\n",
    "\n",
    "# Now you can access the dataset using the name for example\n",
    "print(data_dict['JNJ'])\n",
    "\n",
    "# And more importantly, you can loop over the keys to apply a function to all datasets, which makes the assignment way easier\n",
    "for stock in data_dict:\n",
    "    mean = np.mean(data_dict[stock].RET)\n",
    "    print(f\"This is the mean return for stock {stock}: {mean:.6f}\")\n",
    "    \n",
    "print(\"\") # Just skipping a line\n",
    "# Or even easier, loop through name and value at the same time:\n",
    "for stock_name, stock_data in data_dict.items():\n",
    "    mean = np.mean(stock_data.RET)\n",
    "    print(f\"This is the mean return for stock {stock_name}: {mean:.6f}\")"
   ]
  },
  {
   "cell_type": "code",
   "execution_count": 19,
   "metadata": {},
   "outputs": [
    {
     "name": "stdout",
     "output_type": "stream",
     "text": [
      "This is the mean return for stock KO: 0.000312\n",
      "This is the mean return for stock PFE: 0.000313\n",
      "This is the mean return for stock JNJ: 0.000395\n",
      "This is the mean return for stock MRK: 0.000312\n"
     ]
    }
   ],
   "source": [
    "### The above cell boils down to doing this:\n",
    "KO_data     = raw_data[raw_data.TICKER == 'KO']\n",
    "PFE_data    = raw_data[raw_data.TICKER == 'PFE']\n",
    "JNJ_data    = raw_data[raw_data.TICKER == 'JNJ']\n",
    "MRK_data    = raw_data[raw_data.TICKER == 'KO']\n",
    "\n",
    "KO_mean     = np.mean(KO_data.RET)\n",
    "PFE_mean    = np.mean(PFE_data.RET)\n",
    "JNJ_mean    = np.mean(JNJ_data.RET)\n",
    "MRK_mean    = np.mean(MRK_data.RET)\n",
    "\n",
    "print(f\"This is the mean return for stock KO: {KO_mean:.6f}\")\n",
    "print(f\"This is the mean return for stock PFE: {PFE_mean:.6f}\")\n",
    "print(f\"This is the mean return for stock JNJ: {JNJ_mean:.6f}\")\n",
    "print(f\"This is the mean return for stock MRK: {MRK_mean:.6f}\")\n",
    "\n"
   ]
  },
  {
   "cell_type": "code",
   "execution_count": 61,
   "metadata": {},
   "outputs": [
    {
     "name": "stderr",
     "output_type": "stream",
     "text": [
      "C:\\Users\\Jan\\AppData\\Local\\Temp\\ipykernel_14524\\775003296.py:5: SettingWithCopyWarning: \n",
      "A value is trying to be set on a copy of a slice from a DataFrame.\n",
      "Try using .loc[row_indexer,col_indexer] = value instead\n",
      "\n",
      "See the caveats in the documentation: https://pandas.pydata.org/pandas-docs/stable/user_guide/indexing.html#returning-a-view-versus-a-copy\n",
      "  stock_data.RET = stock_data.RET.transform(lambda ret: ret - mean_return)\n",
      "C:\\Users\\Jan\\AppData\\Local\\Temp\\ipykernel_14524\\775003296.py:6: SettingWithCopyWarning: \n",
      "A value is trying to be set on a copy of a slice from a DataFrame.\n",
      "Try using .loc[row_indexer,col_indexer] = value instead\n",
      "\n",
      "See the caveats in the documentation: https://pandas.pydata.org/pandas-docs/stable/user_guide/indexing.html#returning-a-view-versus-a-copy\n",
      "  stock_data.RET = stock_data.RET.transform(lambda ret: ret * 100)\n"
     ]
    }
   ],
   "source": [
    "### Apply the pre-processing. Be careful to not run this function more than once, as it will scale the data with 100 every run.\n",
    "# To reset the underlying data, just run the cell with the list comprehension again\n",
    "for stock_name, stock_data in data_dict.items():\n",
    "    mean_return = np.mean(stock_data.RET)\n",
    "    stock_data.RET = stock_data.RET.transform(lambda ret: ret - mean_return)\n",
    "    stock_data.RET = stock_data.RET.transform(lambda ret: ret * 100)"
   ]
  },
  {
   "cell_type": "markdown",
   "metadata": {},
   "source": [
    "Question 2:"
   ]
  },
  {
   "cell_type": "code",
   "execution_count": 57,
   "metadata": {},
   "outputs": [],
   "source": [
    "### We first define a function to report the summary statistics for one stock\n",
    "# We can then use a for loop to do this for every plot\n",
    "def summary_statistics(stock_data):\n",
    "    \"\"\"This function takes in some stock data and reports some summary statistics.\"\"\"\n",
    "    returns = stock_data.RET # Just put this in a variable for convenience\n",
    "    \n",
    "    no_of_observations = len(returns)\n",
    "    mean = np.mean(returns)\n",
    "    \n",
    "    # medians\n",
    "    Q1 = np.percentile(returns, 25)\n",
    "    Q2 = np.percentile(returns, 50)\n",
    "    Q3 = np.percentile(returns, 75)\n",
    "    \n",
    "    standard_deviation = np.std(returns)\n",
    "    skewness = sts.skew(returns)\n",
    "    kurtosis = sts.kurtosis(returns)\n",
    "    \n",
    "    minimum = np.min(returns)\n",
    "    maximum = np.max(returns)\n",
    "    \n",
    "    # Now we report the results:\n",
    "    print(f\"Number of observations: {no_of_observations}\")\n",
    "    print(f\"Mean: {mean}\")\n",
    "    print(f\"Q1: {Q1}\")\n",
    "    print(f\"Q2: {Q2}\")\n",
    "    print(f\"Q3: {Q3}\")\n",
    "    print(f\"Standard deviation: {standard_deviation}\")\n",
    "    print(f\"Skewness: {skewness}\")\n",
    "    print(f\"Kurtosis {kurtosis}\")\n",
    "    print(f\"Min: {minimum}\")\n",
    "    print(f\"Max: {maximum}\")\n"
   ]
  },
  {
   "cell_type": "code",
   "execution_count": 58,
   "metadata": {},
   "outputs": [
    {
     "name": "stdout",
     "output_type": "stream",
     "text": [
      "\n",
      "Summary statistics for stock KO:\n",
      "Number of observations: 5284\n",
      "Mean: 1.9057007633138096e-17\n",
      "Q1: -0.5510767789553369\n",
      "Q2: 0.013148221044663174\n",
      "Q3: 0.5715232210446632\n",
      "Standard deviation: 1.224661791122344\n",
      "Skewness: -0.07097367679761012\n",
      "Kurtosis 10.688925222436152\n",
      "Min: -10.092201778955337\n",
      "Max: 13.848298221044663\n",
      "\n",
      "Summary statistics for stock PFE:\n",
      "Number of observations: 5284\n",
      "Mean: 1.8027466978205606e-17\n",
      "Q1: -0.7306891180923543\n",
      "Q2: -0.03128911809235435\n",
      "Q3: 0.7302358819076457\n",
      "Standard deviation: 1.5276243265720826\n",
      "Skewness: -0.015431064055568969\n",
      "Kurtosis 6.06370370707225\n",
      "Min: -11.176889118092355\n",
      "Max: 10.823910881907645\n",
      "\n",
      "Summary statistics for stock JNJ:\n",
      "Number of observations: 5284\n",
      "Mean: -7.992597247679968e-17\n",
      "Q1: -0.5310065480696443\n",
      "Q2: -0.00998154806964429\n",
      "Q3: 0.5526934519303557\n",
      "Standard deviation: 1.1690675191405404\n",
      "Skewness: -0.2559401141391979\n",
      "Kurtosis 14.881540049222341\n",
      "Min: -15.885131548069644\n",
      "Max: 12.189668451930356\n",
      "\n",
      "Summary statistics for stock MRK:\n",
      "Number of observations: 5284\n",
      "Mean: -7.526152297894229e-17\n",
      "Q1: -0.7486054125662377\n",
      "Q2: -0.0019804125662377533\n",
      "Q3: 0.7985945874337622\n",
      "Standard deviation: 1.650500592937383\n",
      "Skewness: -0.9159127904105684\n",
      "Kurtosis 21.092639424617218\n",
      "Min: -26.806680412566237\n",
      "Max: 13.006819587433762\n"
     ]
    }
   ],
   "source": [
    "### Call the function in a for loop\n",
    "for stock_name, stock_data in data_dict.items():\n",
    "    print(f\"\\nSummary statistics for stock {stock_name}:\")\n",
    "    summary_statistics(stock_data)"
   ]
  },
  {
   "cell_type": "code",
   "execution_count": 59,
   "metadata": {},
   "outputs": [
    {
     "name": "stdout",
     "output_type": "stream",
     "text": [
      "Number of observations: 5284\n",
      "Mean: -7.992597247679968e-17\n",
      "Q1: -0.5310065480696443\n",
      "Q2: -0.00998154806964429\n",
      "Q3: 0.5526934519303557\n",
      "Standard deviation: 1.1690675191405404\n",
      "Skewness: -0.2559401141391979\n",
      "Kurtosis 14.881540049222341\n",
      "Min: -15.885131548069644\n",
      "Max: 12.189668451930356\n"
     ]
    }
   ],
   "source": [
    "### If necessary, we can also just call it on one dataset\n",
    "summary_statistics(data_dict['JNJ'])"
   ]
  }
 ],
 "metadata": {
  "kernelspec": {
   "display_name": "Python 3.10.4 ('VScode')",
   "language": "python",
   "name": "python3"
  },
  "language_info": {
   "codemirror_mode": {
    "name": "ipython",
    "version": 3
   },
   "file_extension": ".py",
   "mimetype": "text/x-python",
   "name": "python",
   "nbconvert_exporter": "python",
   "pygments_lexer": "ipython3",
   "version": "3.10.4"
  },
  "orig_nbformat": 4,
  "vscode": {
   "interpreter": {
    "hash": "f4a437a0880dbf35db401d2732e6b882975ebc54360002beb3868b77599ddb5c"
   }
  }
 },
 "nbformat": 4,
 "nbformat_minor": 2
}
