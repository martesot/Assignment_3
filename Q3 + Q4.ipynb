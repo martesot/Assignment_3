{
 "cells": [
  {
   "cell_type": "code",
   "execution_count": 1,
   "id": "624a66c9",
   "metadata": {},
   "outputs": [],
   "source": [
    "import numpy as np                  # Numpy is used for all kinds of mathematical stuff, especially related to matrices\n",
    "import scipy.stats as sts           # SciPy is built specifically for statistical computing\n",
    "import pandas as pd                 # Pandas is for reading in files and using dataframes\n",
    "import matplotlib.pyplot as plt     # This package is used for the plotting framework, and can be used standalone\n",
    "import seaborn as sns  # I use this package for nicer plots than the standard matplotlib plots\n",
    "import math \n",
    "import scipy"
   ]
  },
  {
   "cell_type": "code",
   "execution_count": 2,
   "id": "16ff44a6",
   "metadata": {},
   "outputs": [],
   "source": [
    "#Import the data\n",
    "raw_data = pd.read_csv(\"Assignment3_dataset.csv\")"
   ]
  },
  {
   "cell_type": "markdown",
   "id": "58822753",
   "metadata": {},
   "source": [
    "#### Transformation of data"
   ]
  },
  {
   "cell_type": "code",
   "execution_count": 3,
   "id": "f20dbca4",
   "metadata": {},
   "outputs": [],
   "source": [
    "#Transform the returns by subtracting sample mean and then multipying by 100.\n",
    "for stock_name in raw_data.TICKER.unique():\n",
    "    raw_data.loc[raw_data.TICKER == stock_name,'RET'] = (raw_data.RET - np.mean(raw_data.RET[raw_data.TICKER == stock_name]))*100\n",
    "#checked whether transformation was done correctly by doing the calculation by hand for first obs. of every stock.\n",
    "\n"
   ]
  },
  {
   "cell_type": "markdown",
   "id": "a8bfd892",
   "metadata": {},
   "source": [
    "## Question 3"
   ]
  },
  {
   "cell_type": "markdown",
   "id": "0c5bcd38",
   "metadata": {},
   "source": [
    "### Likelihood functions for both no leverage and leverage models"
   ]
  },
  {
   "cell_type": "code",
   "execution_count": 4,
   "id": "23ee360e",
   "metadata": {},
   "outputs": [],
   "source": [
    "#llik function no leverage \n",
    "def llik_fun_GARCH_no_lev(theta,stock_name):\n",
    "    x = stock_name.RET.iloc[0:2500]\n",
    "    T=len(x);\n",
    "    omega=theta[0]\n",
    "    alpha=theta[1]\n",
    "    beta=theta[2]\n",
    "    lambda1=theta[3]\n",
    "\n",
    "    # Filter Volatility\n",
    "    sigma2 = np.zeros(T)\n",
    "    sigma2[0] = np.var(stock_name.RET.iloc[0:50]); #initialize volatility\n",
    "\n",
    "    for t in range(0,T-1):\n",
    "        sigma2[t+1] = omega + (alpha*(x[t]**2))/(1+((x[t]**2)/(lambda1*sigma2[t]))) + beta*sigma2[t]\n",
    " \n",
    "    \n",
    "    llik =math.lgamma((lambda1 + 1)/2) - math.lgamma(lambda1/2) - 1/2*np.log(lambda1) - 1/2*np.log(np.pi) - (lambda1 + 1)/2 * np.log(1+(((x/(sigma2**0.5))**2)/lambda1)) -1/2*np.log(sigma2)\n",
    "\n",
    "    \n",
    "    return -np.mean(llik)"
   ]
  },
  {
   "cell_type": "code",
   "execution_count": 5,
   "id": "61404ad7",
   "metadata": {},
   "outputs": [],
   "source": [
    "#llik function with leverage \n",
    "def llik_fun_GARCH_w_lev(theta,stock_name):\n",
    "    x = stock_name.RET.iloc[0:2500]\n",
    "    T=len(x);\n",
    "    omega=theta[0]\n",
    "    alpha=theta[1]\n",
    "    beta=theta[2]\n",
    "    delta=theta[3]\n",
    "    lambda1=theta[4]\n",
    "\n",
    "    # Filter Volatility\n",
    "    sigma2 = np.zeros(T)\n",
    "    sigma2[0] = np.var(stock_name.RET.iloc[0:50]); #initialize volatility\n",
    "\n",
    "    for t in range(0,T-1):\n",
    "        if x[t] < 0:\n",
    "            sigma2[t+1] = omega + ((alpha*(x[t]**2))+(delta*(x[t]**2)))/(1+((x[t]**2)/(lambda1*sigma2[t]))) + beta*sigma2[t]\n",
    "        else:\n",
    "            sigma2[t+1] = omega + (alpha*(x[t]**2))/(1+((x[t]**2)/(lambda1*sigma2[t]))) + beta*sigma2[t]\n",
    "    \n",
    "  \n",
    "    llik =math.lgamma((lambda1 + 1)/2) - math.lgamma(lambda1/2) - 1/2*np.log(lambda1) - 1/2*np.log(np.pi) - (lambda1 + 1)/2 * np.log(1+(((x/(sigma2**0.5))**2)/lambda1)) -1/2*np.log(sigma2)\n",
    "\n",
    "\n",
    "    return -np.mean(llik)"
   ]
  },
  {
   "cell_type": "code",
   "execution_count": 6,
   "id": "5282efe0",
   "metadata": {},
   "outputs": [
    {
     "data": {
      "text/plain": [
       "-3774.145968842645"
      ]
     },
     "execution_count": 6,
     "metadata": {},
     "output_type": "execute_result"
    }
   ],
   "source": [
    "#TEST LLIK FUNCTION NO LEVERAGE TO COMPARE WITH KO RESULTS IN PDF.\n",
    "KO = raw_data.RET[raw_data.TICKER == 'KO'].reset_index()\n",
    "KO = KO.drop(columns='index')\n",
    "\n",
    "#par values (copied from PDF)\n",
    "omega_TEST1   = 0.005665683\n",
    "alpha_TEST1   = 0.09922153 \n",
    "beta_TEST1    = 0.91055318 \n",
    "lambda1_TEST1 = 5.5415955    \n",
    "theta_TEST1 = np.array([omega_TEST1,\n",
    "                       alpha_TEST1,\n",
    "                       beta_TEST1,\n",
    "                       lambda1_TEST1])\n",
    "\n",
    "#apply function given the values and KO\n",
    "llik_fun_GARCH_no_lev(theta_TEST1,KO)*-2500 #because -np.mean(LLIK) is returned"
   ]
  },
  {
   "cell_type": "code",
   "execution_count": 7,
   "id": "02f521b3",
   "metadata": {},
   "outputs": [
    {
     "data": {
      "text/plain": [
       "-3758.5960592298843"
      ]
     },
     "execution_count": 7,
     "metadata": {},
     "output_type": "execute_result"
    }
   ],
   "source": [
    "#TEST LLIK FUNCTION WITH LEVERAGE TO COMPARE WITH KO RESULTS IN PDF.\n",
    "KO = raw_data.RET[raw_data.TICKER == 'KO'].reset_index()\n",
    "KO = KO.drop(columns='index')\n",
    "\n",
    "#par values (copied from PDF)\n",
    "omega_TEST2   = 0.007442577\n",
    "alpha_TEST2   = 0.02670845\n",
    "beta_TEST2    = 0.9217446\n",
    "delta_TEST2   = 0.11266453\n",
    "lambda1_TEST2 = 6.056328\n",
    "theta_TEST2 = np.array([omega_TEST2,\n",
    "                       alpha_TEST2,\n",
    "                       beta_TEST2,\n",
    "                       delta_TEST2,\n",
    "                       lambda1_TEST2])\n",
    "\n",
    "#apply function given the values and KO\n",
    "llik_fun_GARCH_w_lev(theta_TEST2,KO)*-2500 #because -np.mean(LLIK) is returned"
   ]
  },
  {
   "cell_type": "markdown",
   "id": "6d47f913",
   "metadata": {},
   "source": [
    "### Maximizing functions"
   ]
  },
  {
   "cell_type": "code",
   "execution_count": 11,
   "id": "19727baa",
   "metadata": {},
   "outputs": [],
   "source": [
    "#First,  create data frames to store the results of optimization\n",
    "parameters_no_lev = pd.DataFrame(columns=['KO', 'PFE', 'JNJ', 'MRK'])\n",
    "parameters_w_lev  = pd.DataFrame(columns=['KO', 'PFE', 'JNJ', 'MRK'])"
   ]
  },
  {
   "cell_type": "code",
   "execution_count": 12,
   "id": "4912bf5e",
   "metadata": {},
   "outputs": [
    {
     "name": "stderr",
     "output_type": "stream",
     "text": [
      "/var/folders/q1/639n4btd13lfwpzm53tdj83m0000gn/T/ipykernel_10612/1224429778.py:18: RuntimeWarning: invalid value encountered in sqrt\n",
      "  llik =math.lgamma((lambda1 + 1)/2) - math.lgamma(lambda1/2) - 1/2*np.log(lambda1) - 1/2*np.log(np.pi) - (lambda1 + 1)/2 * np.log(1+(((x/(sigma2**0.5))**2)/lambda1)) -1/2*np.log(sigma2)\n",
      "/var/folders/q1/639n4btd13lfwpzm53tdj83m0000gn/T/ipykernel_10612/1224429778.py:18: RuntimeWarning: invalid value encountered in log\n",
      "  llik =math.lgamma((lambda1 + 1)/2) - math.lgamma(lambda1/2) - 1/2*np.log(lambda1) - 1/2*np.log(np.pi) - (lambda1 + 1)/2 * np.log(1+(((x/(sigma2**0.5))**2)/lambda1)) -1/2*np.log(sigma2)\n"
     ]
    },
    {
     "name": "stdout",
     "output_type": "stream",
     "text": [
      "Results for KO:\n",
      "\n",
      "parameter estimates KO:\n",
      "omega  : 0.005648375545051545\n",
      "alpha  : 0.09934154514524406\n",
      "beta   : 0.9104794102898055\n",
      "lambda : 5.542324895690594\n",
      "\n",
      "log likelihood value KO:\n",
      "-3774.145880456341\n",
      "AIC\n",
      "-7540.291760912682\n",
      "BIC\n",
      "-7516.995576869256\n",
      "exit flag:\n",
      "True\n",
      "message:\n",
      "Optimization terminated successfully.\n",
      "\n",
      "\n"
     ]
    },
    {
     "name": "stderr",
     "output_type": "stream",
     "text": [
      "/var/folders/q1/639n4btd13lfwpzm53tdj83m0000gn/T/ipykernel_10612/1224429778.py:18: RuntimeWarning: invalid value encountered in sqrt\n",
      "  llik =math.lgamma((lambda1 + 1)/2) - math.lgamma(lambda1/2) - 1/2*np.log(lambda1) - 1/2*np.log(np.pi) - (lambda1 + 1)/2 * np.log(1+(((x/(sigma2**0.5))**2)/lambda1)) -1/2*np.log(sigma2)\n",
      "/var/folders/q1/639n4btd13lfwpzm53tdj83m0000gn/T/ipykernel_10612/1224429778.py:18: RuntimeWarning: invalid value encountered in log\n",
      "  llik =math.lgamma((lambda1 + 1)/2) - math.lgamma(lambda1/2) - 1/2*np.log(lambda1) - 1/2*np.log(np.pi) - (lambda1 + 1)/2 * np.log(1+(((x/(sigma2**0.5))**2)/lambda1)) -1/2*np.log(sigma2)\n"
     ]
    },
    {
     "name": "stdout",
     "output_type": "stream",
     "text": [
      "Results for PFE:\n",
      "\n",
      "parameter estimates PFE:\n",
      "omega  : 0.028976491524802823\n",
      "alpha  : 0.118736051163518\n",
      "beta   : 0.8817457663010027\n",
      "lambda : 6.174827469773313\n",
      "\n",
      "log likelihood value PFE:\n",
      "-4542.309156860948\n",
      "AIC\n",
      "-9076.618313721896\n",
      "BIC\n",
      "-9053.32212967847\n",
      "exit flag:\n",
      "True\n",
      "message:\n",
      "Optimization terminated successfully.\n",
      "\n",
      "\n"
     ]
    },
    {
     "name": "stderr",
     "output_type": "stream",
     "text": [
      "/var/folders/q1/639n4btd13lfwpzm53tdj83m0000gn/T/ipykernel_10612/1224429778.py:18: RuntimeWarning: invalid value encountered in sqrt\n",
      "  llik =math.lgamma((lambda1 + 1)/2) - math.lgamma(lambda1/2) - 1/2*np.log(lambda1) - 1/2*np.log(np.pi) - (lambda1 + 1)/2 * np.log(1+(((x/(sigma2**0.5))**2)/lambda1)) -1/2*np.log(sigma2)\n",
      "/var/folders/q1/639n4btd13lfwpzm53tdj83m0000gn/T/ipykernel_10612/1224429778.py:18: RuntimeWarning: invalid value encountered in log\n",
      "  llik =math.lgamma((lambda1 + 1)/2) - math.lgamma(lambda1/2) - 1/2*np.log(lambda1) - 1/2*np.log(np.pi) - (lambda1 + 1)/2 * np.log(1+(((x/(sigma2**0.5))**2)/lambda1)) -1/2*np.log(sigma2)\n"
     ]
    },
    {
     "name": "stdout",
     "output_type": "stream",
     "text": [
      "Results for JNJ:\n",
      "\n",
      "parameter estimates JNJ:\n",
      "omega  : 0.013498786022142299\n",
      "alpha  : 0.15553204818560248\n",
      "beta   : 0.8526291628325565\n",
      "lambda : 5.954033723077642\n",
      "\n",
      "log likelihood value JNJ:\n",
      "-3567.359346884069\n",
      "AIC\n",
      "-7126.718693768138\n",
      "BIC\n",
      "-7103.422509724713\n",
      "exit flag:\n",
      "True\n",
      "message:\n",
      "Optimization terminated successfully.\n",
      "\n",
      "\n"
     ]
    },
    {
     "name": "stderr",
     "output_type": "stream",
     "text": [
      "/var/folders/q1/639n4btd13lfwpzm53tdj83m0000gn/T/ipykernel_10612/1224429778.py:18: RuntimeWarning: invalid value encountered in sqrt\n",
      "  llik =math.lgamma((lambda1 + 1)/2) - math.lgamma(lambda1/2) - 1/2*np.log(lambda1) - 1/2*np.log(np.pi) - (lambda1 + 1)/2 * np.log(1+(((x/(sigma2**0.5))**2)/lambda1)) -1/2*np.log(sigma2)\n",
      "/var/folders/q1/639n4btd13lfwpzm53tdj83m0000gn/T/ipykernel_10612/1224429778.py:18: RuntimeWarning: invalid value encountered in log\n",
      "  llik =math.lgamma((lambda1 + 1)/2) - math.lgamma(lambda1/2) - 1/2*np.log(lambda1) - 1/2*np.log(np.pi) - (lambda1 + 1)/2 * np.log(1+(((x/(sigma2**0.5))**2)/lambda1)) -1/2*np.log(sigma2)\n"
     ]
    },
    {
     "name": "stdout",
     "output_type": "stream",
     "text": [
      "Results for MRK:\n",
      "\n",
      "parameter estimates MRK:\n",
      "omega  : 0.049431528545158775\n",
      "alpha  : 0.16251774308740088\n",
      "beta   : 0.8394686743205337\n",
      "lambda : 4.382438168438821\n",
      "\n",
      "log likelihood value MRK:\n",
      "-4685.030216725193\n",
      "AIC\n",
      "-9362.060433450386\n",
      "BIC\n",
      "-9338.76424940696\n",
      "exit flag:\n",
      "True\n",
      "message:\n",
      "Optimization terminated successfully.\n",
      "\n",
      "\n"
     ]
    }
   ],
   "source": [
    "#For model without leverage:\n",
    "for stock_name in raw_data.TICKER.unique():\n",
    "    dataframe_stock_name = pd.DataFrame(raw_data.RET[raw_data.TICKER == stock_name].reset_index())\n",
    "    \n",
    "    \n",
    "    #list initial parameter values for the optimization and store them in vector\n",
    "    omega_ini1   = np.var(dataframe_stock_name.RET.iloc[0:2500])/50\n",
    "    alpha_ini1   = 0.02 \n",
    "    beta_ini1    = 0.96 \n",
    "    lambda1_ini1 = 5    \n",
    "    theta_ini1 = np.array([omega_ini1,\n",
    "                       alpha_ini1,\n",
    "                       beta_ini1,\n",
    "                       lambda1_ini1])\n",
    "    \n",
    "    #now, optimize llik function. \n",
    "    results = scipy.optimize.minimize(llik_fun_GARCH_no_lev, theta_ini1, args=(dataframe_stock_name), method='BFGS')\n",
    "  \n",
    "    print(f'Results for {stock_name}:')\n",
    "    print(f'')\n",
    "    print(f'parameter estimates {stock_name}:')\n",
    "    print(f\"omega  : {results.x[0]}\")\n",
    "    print(f\"alpha  : {results.x[1]}\")\n",
    "    print(f\"beta   : {results.x[2]}\")\n",
    "    print(f\"lambda : {results.x[3]}\")\n",
    "    \n",
    "    print(f'')\n",
    "    \n",
    "    print(f'log likelihood value {stock_name}:')\n",
    "    print(results.fun*-2500)\n",
    "    print('AIC') \n",
    "    print(2*len(theta_ini1)-2*(results.fun*2500))\n",
    "    print('BIC')\n",
    "    print(len(theta_ini1)*np.log(2500)-2*(results.fun*2500))\n",
    "    print('exit flag:')\n",
    "    print(results.success)\n",
    "    print('message:')\n",
    "    print(results.message)\n",
    "   \n",
    "    print(f'')\n",
    "    print(f'')\n",
    "    \n",
    "    #store parameter values in just created dataframe\n",
    "    parameters_no_lev[stock_name] = results.x"
   ]
  },
  {
   "cell_type": "code",
   "execution_count": null,
   "id": "3d0fb175",
   "metadata": {},
   "outputs": [
    {
     "name": "stderr",
     "output_type": "stream",
     "text": [
      "/var/folders/q1/639n4btd13lfwpzm53tdj83m0000gn/T/ipykernel_10612/706215545.py:22: RuntimeWarning: invalid value encountered in sqrt\n",
      "  llik =math.lgamma((lambda1 + 1)/2) - math.lgamma(lambda1/2) - 1/2*np.log(lambda1) - 1/2*np.log(np.pi) - (lambda1 + 1)/2 * np.log(1+(((x/(sigma2**0.5))**2)/lambda1)) -1/2*np.log(sigma2)\n",
      "/var/folders/q1/639n4btd13lfwpzm53tdj83m0000gn/T/ipykernel_10612/706215545.py:22: RuntimeWarning: invalid value encountered in log\n",
      "  llik =math.lgamma((lambda1 + 1)/2) - math.lgamma(lambda1/2) - 1/2*np.log(lambda1) - 1/2*np.log(np.pi) - (lambda1 + 1)/2 * np.log(1+(((x/(sigma2**0.5))**2)/lambda1)) -1/2*np.log(sigma2)\n"
     ]
    },
    {
     "name": "stdout",
     "output_type": "stream",
     "text": [
      "Results for KO:\n",
      "\n",
      "parameter estimates KO:\n",
      "omega  : 0.007415546356808641\n",
      "alpha  : 0.027067434098402565\n",
      "beta   : 0.921558759530108\n",
      "delta  : 0.11256444662780245\n",
      "lambda  : 6.018527347429182\n",
      "\n",
      "log likelihood value KO:\n",
      "-4685.030216725193\n",
      "-7507.188532461802\n",
      "BIC\n",
      "-7478.068302407521\n",
      "exit flag:\n",
      "True\n",
      "\n",
      "\n"
     ]
    },
    {
     "name": "stderr",
     "output_type": "stream",
     "text": [
      "/var/folders/q1/639n4btd13lfwpzm53tdj83m0000gn/T/ipykernel_10612/706215545.py:22: RuntimeWarning: invalid value encountered in sqrt\n",
      "  llik =math.lgamma((lambda1 + 1)/2) - math.lgamma(lambda1/2) - 1/2*np.log(lambda1) - 1/2*np.log(np.pi) - (lambda1 + 1)/2 * np.log(1+(((x/(sigma2**0.5))**2)/lambda1)) -1/2*np.log(sigma2)\n",
      "/var/folders/q1/639n4btd13lfwpzm53tdj83m0000gn/T/ipykernel_10612/706215545.py:22: RuntimeWarning: invalid value encountered in log\n",
      "  llik =math.lgamma((lambda1 + 1)/2) - math.lgamma(lambda1/2) - 1/2*np.log(lambda1) - 1/2*np.log(np.pi) - (lambda1 + 1)/2 * np.log(1+(((x/(sigma2**0.5))**2)/lambda1)) -1/2*np.log(sigma2)\n"
     ]
    },
    {
     "name": "stdout",
     "output_type": "stream",
     "text": [
      "Results for PFE:\n",
      "\n",
      "parameter estimates PFE:\n",
      "omega  : 0.01383124142599787\n",
      "alpha  : 0.028186050857422904\n",
      "beta   : 0.9197365148503099\n",
      "delta  : 0.11151304911803483\n",
      "lambda  : 6.002304485889427\n",
      "\n",
      "log likelihood value PFE:\n",
      "-4685.030216725193\n",
      "-9053.509120519564\n",
      "BIC\n",
      "-9024.388890465283\n",
      "exit flag:\n",
      "True\n",
      "\n",
      "\n"
     ]
    },
    {
     "name": "stderr",
     "output_type": "stream",
     "text": [
      "/var/folders/q1/639n4btd13lfwpzm53tdj83m0000gn/T/ipykernel_10612/706215545.py:22: RuntimeWarning: invalid value encountered in sqrt\n",
      "  llik =math.lgamma((lambda1 + 1)/2) - math.lgamma(lambda1/2) - 1/2*np.log(lambda1) - 1/2*np.log(np.pi) - (lambda1 + 1)/2 * np.log(1+(((x/(sigma2**0.5))**2)/lambda1)) -1/2*np.log(sigma2)\n",
      "/var/folders/q1/639n4btd13lfwpzm53tdj83m0000gn/T/ipykernel_10612/706215545.py:22: RuntimeWarning: invalid value encountered in log\n",
      "  llik =math.lgamma((lambda1 + 1)/2) - math.lgamma(lambda1/2) - 1/2*np.log(lambda1) - 1/2*np.log(np.pi) - (lambda1 + 1)/2 * np.log(1+(((x/(sigma2**0.5))**2)/lambda1)) -1/2*np.log(sigma2)\n"
     ]
    },
    {
     "name": "stdout",
     "output_type": "stream",
     "text": [
      "Results for JNJ:\n",
      "\n",
      "parameter estimates JNJ:\n",
      "omega  : 0.013212736545796593\n",
      "alpha  : 0.04144256169132838\n",
      "beta   : 0.8774473524105372\n",
      "delta  : 0.1672910839934613\n",
      "lambda  : 6.38371958404115\n",
      "\n",
      "log likelihood value JNJ:\n",
      "-4685.030216725193\n",
      "-7088.281824093079\n",
      "BIC\n",
      "-7059.161594038797\n",
      "exit flag:\n",
      "True\n",
      "\n",
      "\n"
     ]
    },
    {
     "name": "stderr",
     "output_type": "stream",
     "text": [
      "/var/folders/q1/639n4btd13lfwpzm53tdj83m0000gn/T/ipykernel_10612/706215545.py:22: RuntimeWarning: invalid value encountered in sqrt\n",
      "  llik =math.lgamma((lambda1 + 1)/2) - math.lgamma(lambda1/2) - 1/2*np.log(lambda1) - 1/2*np.log(np.pi) - (lambda1 + 1)/2 * np.log(1+(((x/(sigma2**0.5))**2)/lambda1)) -1/2*np.log(sigma2)\n",
      "/var/folders/q1/639n4btd13lfwpzm53tdj83m0000gn/T/ipykernel_10612/706215545.py:22: RuntimeWarning: invalid value encountered in log\n",
      "  llik =math.lgamma((lambda1 + 1)/2) - math.lgamma(lambda1/2) - 1/2*np.log(lambda1) - 1/2*np.log(np.pi) - (lambda1 + 1)/2 * np.log(1+(((x/(sigma2**0.5))**2)/lambda1)) -1/2*np.log(sigma2)\n"
     ]
    }
   ],
   "source": [
    "#For model with leverage:\n",
    "for stock_name in raw_data.TICKER.unique():\n",
    "    dataframe_stock_name = pd.DataFrame(raw_data.RET[raw_data.TICKER == stock_name].reset_index())\n",
    "    \n",
    "    #initial parameter values for models with leverage \n",
    "    omega_ini2   = np.var(dataframe_stock_name.RET.iloc[0:2500])/50 \n",
    "    alpha_ini2   = 0.02 \n",
    "    beta_ini2    = 0.96 \n",
    "    delta_ini2   = 0\n",
    "    lambda1_ini2 = 5    \n",
    "    theta_ini2 = np.array([omega_ini2,\n",
    "                       alpha_ini2,\n",
    "                       beta_ini2,\n",
    "                       delta_ini2,\n",
    "                       lambda1_ini2])\n",
    "    \n",
    "    #now, optimize llik function. \n",
    "    results2 = scipy.optimize.minimize(llik_fun_GARCH_w_lev, theta_ini2, args=(dataframe_stock_name), method='BFGS')\n",
    "  \n",
    "    print(f'Results for {stock_name}:')\n",
    "    print(f'')\n",
    "    print(f'parameter estimates {stock_name}:')\n",
    "    print(f\"omega  : {results2.x[0]}\")\n",
    "    print(f\"alpha  : {results2.x[1]}\")\n",
    "    print(f\"beta   : {results2.x[2]}\")\n",
    "    print(f\"delta  : {results2.x[3]}\")\n",
    "    print(f\"lambda  : {results2.x[4]}\")\n",
    "    \n",
    "    print(f'')\n",
    "    \n",
    "    print(f'log likelihood value {stock_name}:')\n",
    "    print(results.fun*-2500)\n",
    "    print(2*len(theta_ini2)-2*(results2.fun*2500))\n",
    "    print('BIC')\n",
    "    print(len(theta_ini2)*np.log(2500)-2*(results2.fun*2500))\n",
    "    print('exit flag:')\n",
    "    print(results.success)\n",
    "    print(f'')\n",
    "    print(f'')\n",
    "    \n",
    "    #store parameter values in just created dataframe\n",
    "    parameters_w_lev[stock_name] = results2.x"
   ]
  },
  {
   "cell_type": "code",
   "execution_count": 13,
   "id": "7c0db30a",
   "metadata": {},
   "outputs": [
    {
     "data": {
      "text/html": [
       "<div>\n",
       "<style scoped>\n",
       "    .dataframe tbody tr th:only-of-type {\n",
       "        vertical-align: middle;\n",
       "    }\n",
       "\n",
       "    .dataframe tbody tr th {\n",
       "        vertical-align: top;\n",
       "    }\n",
       "\n",
       "    .dataframe thead th {\n",
       "        text-align: right;\n",
       "    }\n",
       "</style>\n",
       "<table border=\"1\" class=\"dataframe\">\n",
       "  <thead>\n",
       "    <tr style=\"text-align: right;\">\n",
       "      <th></th>\n",
       "      <th>KO</th>\n",
       "      <th>PFE</th>\n",
       "      <th>JNJ</th>\n",
       "      <th>MRK</th>\n",
       "    </tr>\n",
       "  </thead>\n",
       "  <tbody>\n",
       "    <tr>\n",
       "      <th>0</th>\n",
       "      <td>0.005648</td>\n",
       "      <td>0.028976</td>\n",
       "      <td>0.013499</td>\n",
       "      <td>0.049432</td>\n",
       "    </tr>\n",
       "    <tr>\n",
       "      <th>1</th>\n",
       "      <td>0.099342</td>\n",
       "      <td>0.118736</td>\n",
       "      <td>0.155532</td>\n",
       "      <td>0.162518</td>\n",
       "    </tr>\n",
       "    <tr>\n",
       "      <th>2</th>\n",
       "      <td>0.910479</td>\n",
       "      <td>0.881746</td>\n",
       "      <td>0.852629</td>\n",
       "      <td>0.839469</td>\n",
       "    </tr>\n",
       "    <tr>\n",
       "      <th>3</th>\n",
       "      <td>5.542325</td>\n",
       "      <td>6.174827</td>\n",
       "      <td>5.954034</td>\n",
       "      <td>4.382438</td>\n",
       "    </tr>\n",
       "  </tbody>\n",
       "</table>\n",
       "</div>"
      ],
      "text/plain": [
       "         KO       PFE       JNJ       MRK\n",
       "0  0.005648  0.028976  0.013499  0.049432\n",
       "1  0.099342  0.118736  0.155532  0.162518\n",
       "2  0.910479  0.881746  0.852629  0.839469\n",
       "3  5.542325  6.174827  5.954034  4.382438"
      ]
     },
     "execution_count": 13,
     "metadata": {},
     "output_type": "execute_result"
    }
   ],
   "source": [
    "parameters_no_lev"
   ]
  },
  {
   "cell_type": "code",
   "execution_count": null,
   "id": "0215e921",
   "metadata": {},
   "outputs": [],
   "source": [
    "parameters_w_lev"
   ]
  },
  {
   "cell_type": "markdown",
   "id": "e9625ce0",
   "metadata": {},
   "source": [
    "## Question 4"
   ]
  },
  {
   "cell_type": "code",
   "execution_count": 14,
   "id": "91b42651",
   "metadata": {},
   "outputs": [],
   "source": [
    "vol_no_lev   = pd.DataFrame(columns=['KO', 'PFE', 'JNJ', 'MRK'])\n",
    "vol_with_lev = pd.DataFrame(columns=['KO', 'PFE', 'JNJ', 'MRK'])"
   ]
  },
  {
   "cell_type": "code",
   "execution_count": 15,
   "id": "29f4e769",
   "metadata": {},
   "outputs": [
    {
     "name": "stdout",
     "output_type": "stream",
     "text": [
      "KO\n"
     ]
    },
    {
     "data": {
      "image/png": "[encoded data removed]",
      "text/plain": [
       "<Figure size 432x288 with 1 Axes>"
      ]
     },
     "metadata": {
      "needs_background": "light"
     },
     "output_type": "display_data"
    },
    {
     "name": "stdout",
     "output_type": "stream",
     "text": [
      "PFE\n"
     ]
    },
    {
     "data": {
      "image/png": "[encoded data removed]",
      "text/plain": [
       "<Figure size 432x288 with 1 Axes>"
      ]
     },
     "metadata": {
      "needs_background": "light"
     },
     "output_type": "display_data"
    },
    {
     "name": "stdout",
     "output_type": "stream",
     "text": [
      "JNJ\n"
     ]
    },
    {
     "data": {
      "image/png": "[encoded data removed]",
      "text/plain": [
       "<Figure size 432x288 with 1 Axes>"
      ]
     },
     "metadata": {
      "needs_background": "light"
     },
     "output_type": "display_data"
    },
    {
     "name": "stdout",
     "output_type": "stream",
     "text": [
      "MRK\n"
     ]
    },
    {
     "data": {
      "image/png": "[encoded data removed]",
      "text/plain": [
       "<Figure size 432x288 with 1 Axes>"
      ]
     },
     "metadata": {
      "needs_background": "light"
     },
     "output_type": "display_data"
    }
   ],
   "source": [
    "#Filtered volatilities for model without leverage\n",
    "for stock_name in raw_data.TICKER.unique():\n",
    "    dataframe_stock_name = pd.DataFrame(raw_data.RET[raw_data.TICKER == stock_name].reset_index())\n",
    "    \n",
    "    x = dataframe_stock_name.RET\n",
    "    T= len(x)\n",
    "    omega   =   parameters_no_lev[stock_name].loc[0]\n",
    "    alpha   =   parameters_no_lev[stock_name].loc[1]\n",
    "    beta    =   parameters_no_lev[stock_name].loc[2]\n",
    "    lambda1 =   parameters_no_lev[stock_name].loc[3]\n",
    "\n",
    "\n",
    "    sigma2 = np.zeros(T)\n",
    "    sigma2[0] = np.var(dataframe_stock_name.RET.iloc[0:50]); #initialize volatility\n",
    "    \n",
    "\n",
    "    for t in range(0,T-1):\n",
    "        sigma2[t+1] =  omega + (alpha*(x[t]**2))/(1+((x[t]**2)/(lambda1*sigma2[t]))) + beta*sigma2[t]\n",
    "    \n",
    "    vol_no_lev[stock_name] = sigma2\n",
    "\n",
    "    plt.figure()\n",
    "    plt.plot(sigma2)\n",
    "    print(stock_name)\n",
    "    # Show/save figure as desired.\n",
    "    plt.show()"
   ]
  },
  {
   "cell_type": "code",
   "execution_count": null,
   "id": "d783c9a4",
   "metadata": {},
   "outputs": [],
   "source": [
    "sigma2_smaller_zero= 1 if sigma2[t]<0 else 0\n",
    "lambda1_smaller_c = 1 lambda1<0.001 else 0\n",
    "\n",
    "penalty = -100*T - 10000*T*( ((lambda-0.0001)**2) * lambda1_smaller_c + cov?((sigma2**2)*sigma2_smaller_zero))\n",
    "\n",
    "if np.any(sigma2 < 0) or lambda1 < 0.0001:\n",
    "    return(-penalty)\n",
    "else return(-np.mean(llik))"
   ]
  }
 ],
 "metadata": {
  "kernelspec": {
   "display_name": "Python 3 (ipykernel)",
   "language": "python",
   "name": "python3"
  },
  "language_info": {
   "codemirror_mode": {
    "name": "ipython",
    "version": 3
   },
   "file_extension": ".py",
   "mimetype": "text/x-python",
   "name": "python",
   "nbconvert_exporter": "python",
   "pygments_lexer": "ipython3",
   "version": "3.9.12"
  }
 },
 "nbformat": 4,
 "nbformat_minor": 5
}
